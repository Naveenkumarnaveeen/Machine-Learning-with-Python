{
  "nbformat": 4,
  "nbformat_minor": 0,
  "metadata": {
    "colab": {
      "provenance": [],
      "include_colab_link": true
    },
    "kernelspec": {
      "name": "python3",
      "display_name": "Python 3"
    },
    "language_info": {
      "name": "python"
    }
  },
  "cells": [
    {
      "cell_type": "markdown",
      "metadata": {
        "id": "view-in-github",
        "colab_type": "text"
      },
      "source": [
        "<a href=\"https://colab.research.google.com/github/Naveenkumarnaveeen/Machine-Learning-with-Python/blob/main/class_2%2C3.ipynb\" target=\"_parent\"><img src=\"https://colab.research.google.com/assets/colab-badge.svg\" alt=\"Open In Colab\"/></a>"
      ]
    },
    {
      "cell_type": "markdown",
      "source": [
        "**PYTHON FUNDAMENTALS NOTEBOOK**"
      ],
      "metadata": {
        "id": "a9DgpamSZmc1"
      }
    },
    {
      "cell_type": "code",
      "execution_count": 1,
      "metadata": {
        "id": "YsbZvHw4RNYq"
      },
      "outputs": [],
      "source": [
        "# cloud based editor for python \n",
        "# GOOGLE COLABORATORY \n",
        "# shift+enter - to run the current cell\n",
        "# ctrl + m + b (creates a new cell)"
      ]
    },
    {
      "cell_type": "code",
      "source": [
        "print(\"Hello world\")"
      ],
      "metadata": {
        "colab": {
          "base_uri": "https://localhost:8080/"
        },
        "id": "tYWqNzs_OCjH",
        "outputId": "c4eb4a7d-c74c-4c50-a198-9206b46f42c9"
      },
      "execution_count": 2,
      "outputs": [
        {
          "output_type": "stream",
          "name": "stdout",
          "text": [
            "Hello world\n"
          ]
        }
      ]
    },
    {
      "cell_type": "code",
      "source": [
        "print(\"Hello world\")"
      ],
      "metadata": {
        "colab": {
          "base_uri": "https://localhost:8080/"
        },
        "id": "45RGtAkaOVxy",
        "outputId": "d15e190d-325e-42b0-a5ad-e5ac4e9494d0"
      },
      "execution_count": 3,
      "outputs": [
        {
          "output_type": "stream",
          "name": "stdout",
          "text": [
            "Hello world\n"
          ]
        }
      ]
    },
    {
      "cell_type": "code",
      "source": [
        "print(\"Hello world\")"
      ],
      "metadata": {
        "colab": {
          "base_uri": "https://localhost:8080/"
        },
        "id": "ddJ8pWohOciT",
        "outputId": "9a7fb165-8c27-402f-c538-eee1483d7011"
      },
      "execution_count": 4,
      "outputs": [
        {
          "output_type": "stream",
          "name": "stdout",
          "text": [
            "Hello world\n"
          ]
        }
      ]
    },
    {
      "cell_type": "code",
      "source": [
        "print(\"Hello world\")"
      ],
      "metadata": {
        "colab": {
          "base_uri": "https://localhost:8080/"
        },
        "id": "1N4d1q--Oc68",
        "outputId": "c0533ffa-1b85-4761-b3be-be56f387264f"
      },
      "execution_count": 5,
      "outputs": [
        {
          "output_type": "stream",
          "name": "stdout",
          "text": [
            "Hello world\n"
          ]
        }
      ]
    },
    {
      "cell_type": "code",
      "source": [
        "print(\"Hello world\")"
      ],
      "metadata": {
        "colab": {
          "base_uri": "https://localhost:8080/"
        },
        "id": "4J2w2SATOdL8",
        "outputId": "288ed412-b7d7-42a4-d3d1-19f393726ebe"
      },
      "execution_count": 6,
      "outputs": [
        {
          "output_type": "stream",
          "name": "stdout",
          "text": [
            "Hello world\n"
          ]
        }
      ]
    },
    {
      "cell_type": "code",
      "source": [
        "print(\"Hello world\")"
      ],
      "metadata": {
        "colab": {
          "base_uri": "https://localhost:8080/"
        },
        "id": "V1kLU2ANOdfM",
        "outputId": "9167a731-e7e7-401f-c8d3-6b79a9cb3308"
      },
      "execution_count": 7,
      "outputs": [
        {
          "output_type": "stream",
          "name": "stdout",
          "text": [
            "Hello world\n"
          ]
        }
      ]
    },
    {
      "cell_type": "code",
      "source": [
        "# Variables and data types"
      ],
      "metadata": {
        "id": "K_GrS-J8PGtz"
      },
      "execution_count": 8,
      "outputs": []
    },
    {
      "cell_type": "code",
      "source": [
        "a = 1"
      ],
      "metadata": {
        "id": "wpABTXruQVEl"
      },
      "execution_count": 9,
      "outputs": []
    },
    {
      "cell_type": "code",
      "source": [
        "type(a)"
      ],
      "metadata": {
        "colab": {
          "base_uri": "https://localhost:8080/"
        },
        "id": "SJu68xXXQWDU",
        "outputId": "62213707-cb64-423e-f164-97f610b70292"
      },
      "execution_count": 10,
      "outputs": [
        {
          "output_type": "execute_result",
          "data": {
            "text/plain": [
              "int"
            ]
          },
          "metadata": {},
          "execution_count": 10
        }
      ]
    },
    {
      "cell_type": "code",
      "source": [
        "print(a)  #actual python syntax"
      ],
      "metadata": {
        "colab": {
          "base_uri": "https://localhost:8080/"
        },
        "id": "MyosL39jQdgT",
        "outputId": "9b1a91a8-623e-4c6c-d558-8de6b62e3157"
      },
      "execution_count": 11,
      "outputs": [
        {
          "output_type": "stream",
          "name": "stdout",
          "text": [
            "1\n"
          ]
        }
      ]
    },
    {
      "cell_type": "code",
      "source": [
        "a  #exclusive for python notebooks only (you can print a single line without using the print keyword)"
      ],
      "metadata": {
        "colab": {
          "base_uri": "https://localhost:8080/"
        },
        "id": "sxElXEq0QnoR",
        "outputId": "af2f0bb5-4058-4676-cd5a-b1cac7d0c989"
      },
      "execution_count": 12,
      "outputs": [
        {
          "output_type": "execute_result",
          "data": {
            "text/plain": [
              "1"
            ]
          },
          "metadata": {},
          "execution_count": 12
        }
      ]
    },
    {
      "cell_type": "code",
      "source": [
        "b = 5 "
      ],
      "metadata": {
        "id": "wqL74nJCQqJR"
      },
      "execution_count": 13,
      "outputs": []
    },
    {
      "cell_type": "code",
      "source": [
        "print(b)"
      ],
      "metadata": {
        "colab": {
          "base_uri": "https://localhost:8080/"
        },
        "id": "lB94GJtnQs6M",
        "outputId": "fc5555c1-232f-42f1-ddf7-9032d9c31e92"
      },
      "execution_count": 14,
      "outputs": [
        {
          "output_type": "stream",
          "name": "stdout",
          "text": [
            "5\n"
          ]
        }
      ]
    },
    {
      "cell_type": "code",
      "source": [
        "b"
      ],
      "metadata": {
        "colab": {
          "base_uri": "https://localhost:8080/"
        },
        "id": "Z0AWEglBQteq",
        "outputId": "9bce4a37-e8a8-47be-b7e0-0d5155a712e5"
      },
      "execution_count": 15,
      "outputs": [
        {
          "output_type": "execute_result",
          "data": {
            "text/plain": [
              "5"
            ]
          },
          "metadata": {},
          "execution_count": 15
        }
      ]
    },
    {
      "cell_type": "code",
      "source": [
        "a\n",
        "b\n",
        "# if we want to print two statements then print(a) is supposed to be used "
      ],
      "metadata": {
        "colab": {
          "base_uri": "https://localhost:8080/"
        },
        "id": "gnL0zxXLQty7",
        "outputId": "9e67f1cf-c94b-403f-bf90-104be8f50c63"
      },
      "execution_count": 16,
      "outputs": [
        {
          "output_type": "execute_result",
          "data": {
            "text/plain": [
              "5"
            ]
          },
          "metadata": {},
          "execution_count": 16
        }
      ]
    },
    {
      "cell_type": "code",
      "source": [
        "print(a)\n",
        "print(b)"
      ],
      "metadata": {
        "colab": {
          "base_uri": "https://localhost:8080/"
        },
        "id": "yu30BtCsRDLF",
        "outputId": "122f4543-55ee-4a18-8f76-b2ece262167f"
      },
      "execution_count": 17,
      "outputs": [
        {
          "output_type": "stream",
          "name": "stdout",
          "text": [
            "1\n",
            "5\n"
          ]
        }
      ]
    },
    {
      "cell_type": "code",
      "source": [
        "type(a)"
      ],
      "metadata": {
        "colab": {
          "base_uri": "https://localhost:8080/"
        },
        "id": "64k4xvAmROEq",
        "outputId": "f9b0b6f4-4f65-4760-8ad4-be451b2d7106"
      },
      "execution_count": 18,
      "outputs": [
        {
          "output_type": "execute_result",
          "data": {
            "text/plain": [
              "int"
            ]
          },
          "metadata": {},
          "execution_count": 18
        }
      ]
    },
    {
      "cell_type": "code",
      "source": [
        "type(b)"
      ],
      "metadata": {
        "colab": {
          "base_uri": "https://localhost:8080/"
        },
        "id": "HTwx_nSIRYUD",
        "outputId": "6741eecb-d91a-410d-f989-85df5a16b90e"
      },
      "execution_count": 19,
      "outputs": [
        {
          "output_type": "execute_result",
          "data": {
            "text/plain": [
              "int"
            ]
          },
          "metadata": {},
          "execution_count": 19
        }
      ]
    },
    {
      "cell_type": "code",
      "source": [
        "print(type(a))   #actual syntax\n",
        "print(type(b))"
      ],
      "metadata": {
        "colab": {
          "base_uri": "https://localhost:8080/"
        },
        "id": "nc7MgxSwRZCl",
        "outputId": "26a82d88-1aab-498d-e098-30f4fe1b6b61"
      },
      "execution_count": 20,
      "outputs": [
        {
          "output_type": "stream",
          "name": "stdout",
          "text": [
            "<class 'int'>\n",
            "<class 'int'>\n"
          ]
        }
      ]
    },
    {
      "cell_type": "code",
      "source": [
        "a = 1.786\n",
        "type(a)"
      ],
      "metadata": {
        "colab": {
          "base_uri": "https://localhost:8080/"
        },
        "id": "6BpKL5EzRzDQ",
        "outputId": "f069c527-927a-49a2-8bb6-2b167fbbfbfa"
      },
      "execution_count": 21,
      "outputs": [
        {
          "output_type": "execute_result",
          "data": {
            "text/plain": [
              "float"
            ]
          },
          "metadata": {},
          "execution_count": 21
        }
      ]
    },
    {
      "cell_type": "code",
      "source": [
        "a,b      # prints the values like a tuple"
      ],
      "metadata": {
        "colab": {
          "base_uri": "https://localhost:8080/"
        },
        "id": "ceCgj8XKSERM",
        "outputId": "20920166-e3e2-4853-b7c6-8788ae70fef4"
      },
      "execution_count": 22,
      "outputs": [
        {
          "output_type": "execute_result",
          "data": {
            "text/plain": [
              "(1.786, 5)"
            ]
          },
          "metadata": {},
          "execution_count": 22
        }
      ]
    },
    {
      "cell_type": "code",
      "source": [
        "a = 't'\n",
        "b = \"t\"\n",
        "c = 'hello'\n",
        "d = \"hello\""
      ],
      "metadata": {
        "id": "PHR0JnUoSNao"
      },
      "execution_count": 23,
      "outputs": []
    },
    {
      "cell_type": "code",
      "source": [
        "print(type(a))\n",
        "print(type(b))\n",
        "print(type(c))\n",
        "print(type(d))"
      ],
      "metadata": {
        "colab": {
          "base_uri": "https://localhost:8080/"
        },
        "id": "FnTXYAm7SmLz",
        "outputId": "0a782407-183a-4e4e-b068-d97311d2079a"
      },
      "execution_count": 24,
      "outputs": [
        {
          "output_type": "stream",
          "name": "stdout",
          "text": [
            "<class 'str'>\n",
            "<class 'str'>\n",
            "<class 'str'>\n",
            "<class 'str'>\n"
          ]
        }
      ]
    },
    {
      "cell_type": "code",
      "source": [
        "a = True\n",
        "b = False \n",
        "print(type(a))\n",
        "print(type(b))"
      ],
      "metadata": {
        "colab": {
          "base_uri": "https://localhost:8080/"
        },
        "id": "NHhQktOoS0ii",
        "outputId": "27ea8dbc-a939-4117-bbbd-529d78964262"
      },
      "execution_count": 25,
      "outputs": [
        {
          "output_type": "stream",
          "name": "stdout",
          "text": [
            "<class 'bool'>\n",
            "<class 'bool'>\n"
          ]
        }
      ]
    },
    {
      "cell_type": "code",
      "source": [
        "a = True \n",
        "print(type(a))"
      ],
      "metadata": {
        "colab": {
          "base_uri": "https://localhost:8080/"
        },
        "id": "OaKdiSy-TFhm",
        "outputId": "974695a4-8813-45e7-b8ff-5d489a9371b8"
      },
      "execution_count": 26,
      "outputs": [
        {
          "output_type": "stream",
          "name": "stdout",
          "text": [
            "<class 'bool'>\n"
          ]
        }
      ]
    },
    {
      "cell_type": "code",
      "source": [
        "b = False \n",
        "print(type(b))"
      ],
      "metadata": {
        "colab": {
          "base_uri": "https://localhost:8080/"
        },
        "id": "aVJdEQxsTVLl",
        "outputId": "31c97e92-b6f8-44e2-d7dc-1f3722be7857"
      },
      "execution_count": 27,
      "outputs": [
        {
          "output_type": "stream",
          "name": "stdout",
          "text": [
            "<class 'bool'>\n"
          ]
        }
      ]
    },
    {
      "cell_type": "code",
      "source": [
        "a = 3+5j\n",
        "print(type(a))"
      ],
      "metadata": {
        "colab": {
          "base_uri": "https://localhost:8080/"
        },
        "id": "nwPc5GUmTkCx",
        "outputId": "cf6da453-6304-44f7-a376-fdfcc7dd93aa"
      },
      "execution_count": 28,
      "outputs": [
        {
          "output_type": "stream",
          "name": "stdout",
          "text": [
            "<class 'complex'>\n"
          ]
        }
      ]
    },
    {
      "cell_type": "code",
      "source": [
        "# 1. integer\n",
        "# 2. float\n",
        "# '''\n",
        "# 3. string\n",
        "# 4. boolean\n",
        "# 5. complex \n",
        "# '''\n",
        "# print(\"Hello world\")\n",
        "# ctrl+a, ctrl + /\n",
        "#                  #   - single line comment\n",
        "# '''your code here''' -  multi line comment "
      ],
      "metadata": {
        "id": "cOk82bT5T5DG"
      },
      "execution_count": 29,
      "outputs": []
    },
    {
      "cell_type": "code",
      "source": [
        "# input() statment"
      ],
      "metadata": {
        "id": "2DS_djq1UZRj"
      },
      "execution_count": 30,
      "outputs": []
    },
    {
      "cell_type": "code",
      "source": [
        "a = input(\"Enter the text :\")\n",
        "print(\"The entered statement is :\",a)"
      ],
      "metadata": {
        "colab": {
          "base_uri": "https://localhost:8080/"
        },
        "id": "_nGCxMBIVkAp",
        "outputId": "29f37479-c9c8-4d83-97f9-f8d1e84ec52a"
      },
      "execution_count": 31,
      "outputs": [
        {
          "output_type": "stream",
          "name": "stdout",
          "text": [
            "Enter the text :India is my country\n",
            "The entered statement is : India is my country\n"
          ]
        }
      ]
    },
    {
      "cell_type": "code",
      "source": [
        "type(a)"
      ],
      "metadata": {
        "colab": {
          "base_uri": "https://localhost:8080/"
        },
        "id": "OVvv8sGLV3Q_",
        "outputId": "4ab6a8c6-4b7f-44c9-a172-68cc34614877"
      },
      "execution_count": 32,
      "outputs": [
        {
          "output_type": "execute_result",
          "data": {
            "text/plain": [
              "str"
            ]
          },
          "metadata": {},
          "execution_count": 32
        }
      ]
    },
    {
      "cell_type": "code",
      "source": [
        "a = 4\n",
        "b = 5"
      ],
      "metadata": {
        "id": "rG3IndNCWMF8"
      },
      "execution_count": 33,
      "outputs": []
    },
    {
      "cell_type": "code",
      "source": [
        "a+b"
      ],
      "metadata": {
        "colab": {
          "base_uri": "https://localhost:8080/"
        },
        "id": "D7Ne601DWTBr",
        "outputId": "63cf46a0-8b2f-4474-9479-699d60305b2f"
      },
      "execution_count": 34,
      "outputs": [
        {
          "output_type": "execute_result",
          "data": {
            "text/plain": [
              "9"
            ]
          },
          "metadata": {},
          "execution_count": 34
        }
      ]
    },
    {
      "cell_type": "code",
      "source": [
        "a-b"
      ],
      "metadata": {
        "colab": {
          "base_uri": "https://localhost:8080/"
        },
        "id": "BEVWXd5TWTj5",
        "outputId": "f3333eda-1567-4414-866a-119d3b55e94d"
      },
      "execution_count": 35,
      "outputs": [
        {
          "output_type": "execute_result",
          "data": {
            "text/plain": [
              "-1"
            ]
          },
          "metadata": {},
          "execution_count": 35
        }
      ]
    },
    {
      "cell_type": "code",
      "source": [
        "a*b"
      ],
      "metadata": {
        "colab": {
          "base_uri": "https://localhost:8080/"
        },
        "id": "E7SSzEm3WV3o",
        "outputId": "f75bec28-77d5-43a1-abd1-a19ed1be35bf"
      },
      "execution_count": 36,
      "outputs": [
        {
          "output_type": "execute_result",
          "data": {
            "text/plain": [
              "20"
            ]
          },
          "metadata": {},
          "execution_count": 36
        }
      ]
    },
    {
      "cell_type": "code",
      "source": [
        "a/b   # quotient"
      ],
      "metadata": {
        "colab": {
          "base_uri": "https://localhost:8080/"
        },
        "id": "RZULHrpJWWZi",
        "outputId": "34fd3932-5a84-4041-b16d-31bfaceaaece"
      },
      "execution_count": 37,
      "outputs": [
        {
          "output_type": "execute_result",
          "data": {
            "text/plain": [
              "0.8"
            ]
          },
          "metadata": {},
          "execution_count": 37
        }
      ]
    },
    {
      "cell_type": "code",
      "source": [
        "a%b   #remainder"
      ],
      "metadata": {
        "colab": {
          "base_uri": "https://localhost:8080/"
        },
        "id": "Ma9g5BgkWW7Y",
        "outputId": "26af72b4-ea39-4621-9cf7-26a89b2c5122"
      },
      "execution_count": 38,
      "outputs": [
        {
          "output_type": "execute_result",
          "data": {
            "text/plain": [
              "4"
            ]
          },
          "metadata": {},
          "execution_count": 38
        }
      ]
    },
    {
      "cell_type": "code",
      "source": [
        "a//b   #floor division (gives only the integer part of the quotient)"
      ],
      "metadata": {
        "colab": {
          "base_uri": "https://localhost:8080/"
        },
        "id": "3bgd85RpWbcW",
        "outputId": "fc0cdd9b-16de-48ae-9d41-f606e561a194"
      },
      "execution_count": 39,
      "outputs": [
        {
          "output_type": "execute_result",
          "data": {
            "text/plain": [
              "0"
            ]
          },
          "metadata": {},
          "execution_count": 39
        }
      ]
    },
    {
      "cell_type": "code",
      "source": [
        "a = input(\"Enter 1st number :\")\n",
        "b = input(\"Enter 2nd number :\")"
      ],
      "metadata": {
        "colab": {
          "base_uri": "https://localhost:8080/"
        },
        "id": "AYs68FrrWb6x",
        "outputId": "d8a32f32-80ad-4b16-8c8f-b4d63e072e2f"
      },
      "execution_count": 40,
      "outputs": [
        {
          "name": "stdout",
          "output_type": "stream",
          "text": [
            "Enter 1st number :5\n",
            "Enter 2nd number :7\n"
          ]
        }
      ]
    },
    {
      "cell_type": "code",
      "source": [
        "a+b #string concatenation"
      ],
      "metadata": {
        "colab": {
          "base_uri": "https://localhost:8080/",
          "height": 35
        },
        "id": "aGwoQxx6W0PC",
        "outputId": "9f806300-8b25-4b02-ae9e-2366d8987cf5"
      },
      "execution_count": 41,
      "outputs": [
        {
          "output_type": "execute_result",
          "data": {
            "text/plain": [
              "'57'"
            ],
            "application/vnd.google.colaboratory.intrinsic+json": {
              "type": "string"
            }
          },
          "metadata": {},
          "execution_count": 41
        }
      ]
    },
    {
      "cell_type": "code",
      "source": [
        "a-b # a,b are string data types so it will result in error"
      ],
      "metadata": {
        "id": "N29HB0ujW2KA"
      },
      "execution_count": null,
      "outputs": []
    },
    {
      "cell_type": "code",
      "source": [
        "a = int(input(\"Enter 1st number :\"))\n",
        "b = int(input(\"Enter 2nd number :\"))"
      ],
      "metadata": {
        "colab": {
          "base_uri": "https://localhost:8080/"
        },
        "id": "SkCe_oH6W4Wl",
        "outputId": "3cc16bb5-a4ad-48a2-9ba7-4f75f11934b1"
      },
      "execution_count": 44,
      "outputs": [
        {
          "name": "stdout",
          "output_type": "stream",
          "text": [
            "Enter 1st number :10\n",
            "Enter 2nd number :5\n"
          ]
        }
      ]
    },
    {
      "cell_type": "code",
      "source": [
        "a+b"
      ],
      "metadata": {
        "colab": {
          "base_uri": "https://localhost:8080/"
        },
        "id": "u9-qjUVOXR_c",
        "outputId": "bcbb990f-c793-45b8-e800-1a0f8e8adcca"
      },
      "execution_count": 45,
      "outputs": [
        {
          "output_type": "execute_result",
          "data": {
            "text/plain": [
              "15"
            ]
          },
          "metadata": {},
          "execution_count": 45
        }
      ]
    },
    {
      "cell_type": "code",
      "source": [
        "a-b"
      ],
      "metadata": {
        "colab": {
          "base_uri": "https://localhost:8080/"
        },
        "id": "l1Klf68kXTUj",
        "outputId": "f8224fe9-6dc7-4aae-9675-73f39f475d0f"
      },
      "execution_count": 46,
      "outputs": [
        {
          "output_type": "execute_result",
          "data": {
            "text/plain": [
              "5"
            ]
          },
          "metadata": {},
          "execution_count": 46
        }
      ]
    },
    {
      "cell_type": "code",
      "source": [
        "a = float(input(\"Enter 1st number :\"))\n",
        "b = float(input(\"Enter 2nd number :\"))"
      ],
      "metadata": {
        "colab": {
          "base_uri": "https://localhost:8080/"
        },
        "id": "VjXduz3oXTsV",
        "outputId": "0230f118-a87b-4ce8-8e47-fbcbf055d549"
      },
      "execution_count": 47,
      "outputs": [
        {
          "name": "stdout",
          "output_type": "stream",
          "text": [
            "Enter 1st number :4.890\n",
            "Enter 2nd number :5.622\n"
          ]
        }
      ]
    },
    {
      "cell_type": "code",
      "source": [
        "# strings \n",
        "# raw string \n",
        "# formatted string"
      ],
      "metadata": {
        "id": "pHbzVwO4XXlQ"
      },
      "execution_count": 48,
      "outputs": []
    },
    {
      "cell_type": "code",
      "source": [
        "a = \"Hello world\""
      ],
      "metadata": {
        "id": "eobe2PyWXvyG"
      },
      "execution_count": 49,
      "outputs": []
    },
    {
      "cell_type": "code",
      "source": [
        "type(a)"
      ],
      "metadata": {
        "colab": {
          "base_uri": "https://localhost:8080/"
        },
        "id": "RVclnA2xX0OS",
        "outputId": "98de7c1e-6b32-4ab9-e8e1-da762684910e"
      },
      "execution_count": 50,
      "outputs": [
        {
          "output_type": "execute_result",
          "data": {
            "text/plain": [
              "str"
            ]
          },
          "metadata": {},
          "execution_count": 50
        }
      ]
    },
    {
      "cell_type": "code",
      "source": [
        "b = \"HELLO WORLD\""
      ],
      "metadata": {
        "id": "_rfr2QQ4X1Ei"
      },
      "execution_count": 51,
      "outputs": []
    },
    {
      "cell_type": "code",
      "source": [
        "a+b"
      ],
      "metadata": {
        "colab": {
          "base_uri": "https://localhost:8080/",
          "height": 35
        },
        "id": "lbzstdTZX410",
        "outputId": "a4dac6c5-9c8c-4ac9-a8f3-479379c0cb08"
      },
      "execution_count": 52,
      "outputs": [
        {
          "output_type": "execute_result",
          "data": {
            "text/plain": [
              "'Hello worldHELLO WORLD'"
            ],
            "application/vnd.google.colaboratory.intrinsic+json": {
              "type": "string"
            }
          },
          "metadata": {},
          "execution_count": 52
        }
      ]
    },
    {
      "cell_type": "code",
      "source": [
        "a = \"Hello world\"\n",
        "b = \"HELLO WORLD\"\n",
        "print(a,b)"
      ],
      "metadata": {
        "colab": {
          "base_uri": "https://localhost:8080/"
        },
        "id": "bAc71bfwX5cS",
        "outputId": "3e879e88-99a3-420e-c137-1a5f784e4568"
      },
      "execution_count": 53,
      "outputs": [
        {
          "output_type": "stream",
          "name": "stdout",
          "text": [
            "Hello world HELLO WORLD\n"
          ]
        }
      ]
    },
    {
      "cell_type": "code",
      "source": [
        "# raw string - removes the special meaning of these escape sequences and prints the string as it is \n",
        "\n",
        "print('C:\\program Files\\adobe\\adobe Illustrator CC 2017\\book\\total_books\\new folder')\n",
        "# escape sequences (\\n,\\t,\\b,\\a - special meanings in python)\n",
        "print(r'C:\\program Files\\adobe\\adobe Illustrator CC 2017\\book\\total_books\\new folder')"
      ],
      "metadata": {
        "colab": {
          "base_uri": "https://localhost:8080/"
        },
        "id": "rj55mEVzYCZ8",
        "outputId": "356ebbcd-548e-4310-9f75-5ab8b4faec17"
      },
      "execution_count": 54,
      "outputs": [
        {
          "output_type": "stream",
          "name": "stdout",
          "text": [
            "C:\\program Files\u0007dobe\u0007dobe Illustrator CC 2017\book\total_books\n",
            "ew folder\n",
            "C:\\program Files\\adobe\\adobe Illustrator CC 2017\\book\\total_books\\new folder\n"
          ]
        }
      ]
    },
    {
      "cell_type": "code",
      "source": [
        "# FORMATTED STRING - refers to the value present inside the variable and prints it within the string \n",
        "\n",
        "a = int(input(\"Enter 1st number :\"))\n",
        "b = int(input(\"Enter 2nd number :\"))"
      ],
      "metadata": {
        "colab": {
          "base_uri": "https://localhost:8080/"
        },
        "id": "_MZfyUk8Z8YA",
        "outputId": "dd29a127-912a-4cfc-b17a-2f8e1a288266"
      },
      "execution_count": 55,
      "outputs": [
        {
          "name": "stdout",
          "output_type": "stream",
          "text": [
            "Enter 1st number :8\n",
            "Enter 2nd number :5\n"
          ]
        }
      ]
    },
    {
      "cell_type": "code",
      "source": [
        "print(\"Addition of a and b is :\",a+b)\n",
        "print(\"subtraction of a and b is :\",a-b)\n",
        "print(\"Muliplication of a and b is :\",a*b)\n",
        "print(\"Division of a and b is :\",a/b)\n",
        "print(\"Modulus of a and b is :\",a%b)\n",
        "print(\"Floor division of a and b is :\",a //b)"
      ],
      "metadata": {
        "colab": {
          "base_uri": "https://localhost:8080/"
        },
        "id": "eT9liMngaC9S",
        "outputId": "7671a011-bba3-4aec-fc50-70eb38ec2e06"
      },
      "execution_count": 56,
      "outputs": [
        {
          "output_type": "stream",
          "name": "stdout",
          "text": [
            "Addition of a and b is : 13\n",
            "subtraction of a and b is : 3\n",
            "Muliplication of a and b is : 40\n",
            "Division of a and b is : 1.6\n",
            "Modulus of a and b is : 3\n",
            "Floor division of a and b is : 1\n"
          ]
        }
      ]
    },
    {
      "cell_type": "code",
      "source": [
        "print(f\"Addition of {a} and {b} is :\",a+b)\n",
        "print(f\"subtraction of {a} and {b} is :\",a-b)\n",
        "print(f\"Muliplication of {a} and {b} is :\",a*b)\n",
        "print(f\"Division of {a} and {b} is :\",a/b)\n",
        "print(\"Modulus of {a} and {b} is :\",a%b)\n",
        "print(f\"Floor division of a and b is :\",a //b)"
      ],
      "metadata": {
        "colab": {
          "base_uri": "https://localhost:8080/"
        },
        "id": "qMahMaFeagq5",
        "outputId": "b0840b9f-78c3-45ec-8053-62f4488975dd"
      },
      "execution_count": 57,
      "outputs": [
        {
          "output_type": "stream",
          "name": "stdout",
          "text": [
            "Addition of 8 and 5 is : 13\n",
            "subtraction of 8 and 5 is : 3\n",
            "Muliplication of 8 and 5 is : 40\n",
            "Division of 8 and 5 is : 1.6\n",
            "Modulus of {a} and {b} is : 3\n",
            "Floor division of a and b is : 1\n"
          ]
        }
      ]
    },
    {
      "cell_type": "code",
      "source": [
        "a = input(\"Enter 1st number :\")\n",
        "b = input(\"Enter 2nd number :\")\n",
        "print(f\"Addition of {a} and {b} is :\",a+b)"
      ],
      "metadata": {
        "colab": {
          "base_uri": "https://localhost:8080/"
        },
        "id": "Dui98E2BbQAo",
        "outputId": "4fc078ba-09de-46b0-d858-484f1b69e6bc"
      },
      "execution_count": 58,
      "outputs": [
        {
          "output_type": "stream",
          "name": "stdout",
          "text": [
            "Enter 1st number :10\n",
            "Enter 2nd number :15\n",
            "Addition of 10 and 15 is : 1015\n"
          ]
        }
      ]
    },
    {
      "cell_type": "code",
      "source": [
        "a = float(input(\"Enter 1st number :\"))\n",
        "b = float(input(\"Enter 2nd number :\"))\n",
        "print(f\"Addition of {a} and {b} is :\",a+b)"
      ],
      "metadata": {
        "colab": {
          "base_uri": "https://localhost:8080/"
        },
        "id": "o94M7P05ayy5",
        "outputId": "2d812bef-d03f-4850-91aa-383ecd77fa72"
      },
      "execution_count": 59,
      "outputs": [
        {
          "output_type": "stream",
          "name": "stdout",
          "text": [
            "Enter 1st number :7\n",
            "Enter 2nd number :9\n",
            "Addition of 7.0 and 9.0 is : 16.0\n"
          ]
        }
      ]
    },
    {
      "cell_type": "code",
      "source": [
        "print(a+b)\n",
        "print(round(a+b))"
      ],
      "metadata": {
        "colab": {
          "base_uri": "https://localhost:8080/"
        },
        "id": "aYT2IzFRbWhk",
        "outputId": "1f7765d4-0aab-4cfe-9083-2d0341bc55c2"
      },
      "execution_count": 60,
      "outputs": [
        {
          "output_type": "stream",
          "name": "stdout",
          "text": [
            "16.0\n",
            "16\n"
          ]
        }
      ]
    },
    {
      "cell_type": "code",
      "source": [
        "round(12.181999999999999,2)"
      ],
      "metadata": {
        "colab": {
          "base_uri": "https://localhost:8080/"
        },
        "id": "vFY9-ADrboYr",
        "outputId": "dbaeb84f-a308-4fa4-9c9f-37c2bb5a2b67"
      },
      "execution_count": 61,
      "outputs": [
        {
          "output_type": "execute_result",
          "data": {
            "text/plain": [
              "12.18"
            ]
          },
          "metadata": {},
          "execution_count": 61
        }
      ]
    },
    {
      "cell_type": "code",
      "source": [
        "# Square of a number \n",
        "a = float(input(\"Enter a number :\"))\n",
        "# square = a*a\n",
        "square = a**2\n",
        "print(f\"Square of {a} is :\",square)"
      ],
      "metadata": {
        "colab": {
          "base_uri": "https://localhost:8080/"
        },
        "id": "yK2QYzXwcASN",
        "outputId": "96df0cd6-ff46-462e-863e-0d3ec7c85025"
      },
      "execution_count": 62,
      "outputs": [
        {
          "output_type": "stream",
          "name": "stdout",
          "text": [
            "Enter a number :4\n",
            "Square of 4.0 is : 16.0\n"
          ]
        }
      ]
    },
    {
      "cell_type": "code",
      "source": [
        "# Control statements \n",
        "# if, else, if else conditions "
      ],
      "metadata": {
        "id": "pjkeUfyag3Lk"
      },
      "execution_count": 63,
      "outputs": []
    },
    {
      "cell_type": "code",
      "source": [
        "10%2"
      ],
      "metadata": {
        "colab": {
          "base_uri": "https://localhost:8080/"
        },
        "id": "EFEuvaqwh2UY",
        "outputId": "fe34542e-7010-4cb0-cf5a-c0c1f7fec49c"
      },
      "execution_count": 64,
      "outputs": [
        {
          "output_type": "execute_result",
          "data": {
            "text/plain": [
              "0"
            ]
          },
          "metadata": {},
          "execution_count": 64
        }
      ]
    },
    {
      "cell_type": "code",
      "source": [
        "# if condition (indentation)"
      ],
      "metadata": {
        "id": "yTJ36h8LieKL"
      },
      "execution_count": 65,
      "outputs": []
    },
    {
      "cell_type": "code",
      "source": [
        "# Even or odd program \n",
        "a = 11\n",
        "if a%2==0:\n",
        "  print(\"the number is even\")\n",
        "if a%2!=0:\n",
        "  print(\"the number is odd\")\n",
        "\n",
        "# indentation in IDLE  - 1 tab space = 4 spaces    \n",
        "# indentation in colab - 1 tab space = 2 spaces"
      ],
      "metadata": {
        "colab": {
          "base_uri": "https://localhost:8080/"
        },
        "id": "GrgfdzZDhYVf",
        "outputId": "28d2b8a8-222b-424b-cee8-ef4ee0fe69ca"
      },
      "execution_count": 66,
      "outputs": [
        {
          "output_type": "stream",
          "name": "stdout",
          "text": [
            "the number is odd\n"
          ]
        }
      ]
    },
    {
      "cell_type": "code",
      "source": [
        "# Even or odd program \n",
        "a = int(input(\"Enter the number :\"))\n",
        "if a%2==0:\n",
        "  print(f\"the number {a} is even\")\n",
        "if a%2!=0:\n",
        "  print(f\"the number {a} is odd\")"
      ],
      "metadata": {
        "colab": {
          "base_uri": "https://localhost:8080/"
        },
        "id": "sPkzer_hh8n4",
        "outputId": "ea5ff1e5-e1b6-4ee0-cb3d-7f247984a87d"
      },
      "execution_count": 67,
      "outputs": [
        {
          "output_type": "stream",
          "name": "stdout",
          "text": [
            "Enter the number :10\n",
            "the number 10 is even\n"
          ]
        }
      ]
    },
    {
      "cell_type": "code",
      "source": [
        "# Even or odd program \n",
        "a = int(input(\"Enter the number :\"))\n",
        "if a%2==0:\n",
        "  print(\"the number is even\")\n",
        "else:\n",
        "  print(\"the number is odd\")"
      ],
      "metadata": {
        "colab": {
          "base_uri": "https://localhost:8080/"
        },
        "id": "oOWIOtwejOkl",
        "outputId": "30bd90e6-ad5a-4953-9f01-e67e6f023e8c"
      },
      "execution_count": 68,
      "outputs": [
        {
          "output_type": "stream",
          "name": "stdout",
          "text": [
            "Enter the number :67\n",
            "the number is odd\n"
          ]
        }
      ]
    },
    {
      "cell_type": "code",
      "source": [
        "a = input(\"Enter the season :\")\n",
        "if a == \"summer\" or a == \"Summer\" or a == \"SUMMER\":\n",
        "  print(\"Summer season\")\n",
        "elif a == \"winter\":\n",
        "  print(\"Winter season\")\n",
        "elif a == \"spring\":\n",
        "  print(\"spring season\")\n",
        "elif a == \"autumn\":\n",
        "  print(\"autumn season\")\n",
        "elif a == \"monsoon\":\n",
        "  print(\"monsoon season\")\n",
        "else:\n",
        "  print(\"Invalid entry\")"
      ],
      "metadata": {
        "colab": {
          "base_uri": "https://localhost:8080/"
        },
        "id": "OoTrhV3GjX4a",
        "outputId": "3bdf0082-5729-4477-b59a-3f310f118102"
      },
      "execution_count": 69,
      "outputs": [
        {
          "output_type": "stream",
          "name": "stdout",
          "text": [
            "Enter the season :summer\n",
            "Summer season\n"
          ]
        }
      ]
    },
    {
      "cell_type": "code",
      "source": [
        "a = input(\"Enter the season :\")\n",
        "a = a.lower() \n",
        "if a == \"summer\" or a == \"Summer\" or a == \"SUMMER\":\n",
        "  print(\"Summer season\")\n",
        "elif a == \"winter\":\n",
        "  print(\"Winter season\")\n",
        "elif a == \"spring\":\n",
        "  print(\"spring season\")\n",
        "elif a == \"autumn\":\n",
        "  print(\"autumn season\")\n",
        "elif a == \"monsoon\":\n",
        "  print(\"monsoon season\")\n",
        "else:\n",
        "  print(\"Invalid entry\")"
      ],
      "metadata": {
        "colab": {
          "base_uri": "https://localhost:8080/"
        },
        "id": "v7LFWkVykbRf",
        "outputId": "24991d09-c1fe-4be9-f43e-32c133686f11"
      },
      "execution_count": 70,
      "outputs": [
        {
          "output_type": "stream",
          "name": "stdout",
          "text": [
            "Enter the season :MONsoon\n",
            "monsoon season\n"
          ]
        }
      ]
    },
    {
      "cell_type": "code",
      "source": [
        "# Assignment : \n",
        "# 1.write a code to check which number is largest out of the three numbers and print it\n",
        "# 2.write a code to check if person is eligible to vote or not,if the person is not eligible, then print after how many years will he/she be eligible \n",
        "# 3.write a program to find the square root a number obtained from a user input (use formatted strings)"
      ],
      "metadata": {
        "id": "irbJmUKPc3Bv"
      },
      "execution_count": 71,
      "outputs": []
    },
    {
      "cell_type": "code",
      "source": [
        "# QUESTION:1\n",
        "a=int(input(\"enter number:\"))\n",
        "b=int(input(\"enter number:\"))\n",
        "c=int(input(\"enter number:\"))\n",
        "if (a>b) and (a>c):\n",
        "  print(f\"The greater number is {a}\")\n",
        "elif ((b>c) and (b>a)):\n",
        "  print(f\"The greater number is {b}\")\n",
        "else:\n",
        "  print(f\"The greater number is {c}\")\n",
        "  "
      ],
      "metadata": {
        "id": "4rV0Grn9l271",
        "outputId": "e9648d6c-9f2c-404f-aab9-9c82c468d7d1",
        "colab": {
          "base_uri": "https://localhost:8080/"
        }
      },
      "execution_count": 72,
      "outputs": [
        {
          "output_type": "stream",
          "name": "stdout",
          "text": [
            "enter number:10\n",
            "enter number:12\n",
            "enter number:15\n",
            "The greater number is 15\n"
          ]
        }
      ]
    },
    {
      "cell_type": "code",
      "source": [
        "# Question 2:\n",
        "vote_age=int(input(\"enter age:\"))\n",
        "if (vote_age>=18):\n",
        "  print(\"Eligible to vote\")\n",
        "else:\n",
        "  print(\"Not elligible to vote, You will be elligible in \",18-vote_age,\"years\")"
      ],
      "metadata": {
        "id": "IDGjesFK-vBx",
        "outputId": "7554c38b-3545-4658-feb1-05fee41fbfe2",
        "colab": {
          "base_uri": "https://localhost:8080/"
        }
      },
      "execution_count": 73,
      "outputs": [
        {
          "output_type": "stream",
          "name": "stdout",
          "text": [
            "enter age:13\n",
            "Not elligible to vote, You will be elligible in  5 years\n"
          ]
        }
      ]
    },
    {
      "cell_type": "code",
      "source": [
        "# Question 3:\n",
        "num=int(input(\"enter number:\"))\n",
        "square_root=num**(1/2)\n",
        "print(f\"The square of {num} is {square_root}\")"
      ],
      "metadata": {
        "id": "TRRN67Zj_ccT",
        "outputId": "c1ee97b4-1485-4382-e532-62ea05e811f8",
        "colab": {
          "base_uri": "https://localhost:8080/"
        }
      },
      "execution_count": 75,
      "outputs": [
        {
          "output_type": "stream",
          "name": "stdout",
          "text": [
            "enter number:16\n",
            "The square of 16 is 4.0\n"
          ]
        }
      ]
    }
  ]
}