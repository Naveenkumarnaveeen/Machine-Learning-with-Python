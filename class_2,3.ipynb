{
  "nbformat": 4,
  "nbformat_minor": 0,
  "metadata": {
    "colab": {
      "provenance": [],
      "include_colab_link": true
    },
    "kernelspec": {
      "name": "python3",
      "display_name": "Python 3"
    },
    "language_info": {
      "name": "python"
    }
  },
  "cells": [
    {
      "cell_type": "markdown",
      "metadata": {
        "id": "view-in-github",
        "colab_type": "text"
      },
      "source": [
        "<a href=\"https://colab.research.google.com/github/Naveenkumarnaveeen/Machine-Learning-with-Python/blob/main/class_2%2C3.ipynb\" target=\"_parent\"><img src=\"https://colab.research.google.com/assets/colab-badge.svg\" alt=\"Open In Colab\"/></a>"
      ]
    },
    {
      "cell_type": "markdown",
      "source": [
        "**PYTHON FUNDAMENTALS NOTEBOOK**"
      ],
      "metadata": {
        "id": "a9DgpamSZmc1"
      }
    },
    {
      "cell_type": "code",
      "execution_count": 1,
      "metadata": {
        "id": "YsbZvHw4RNYq"
      },
      "outputs": [],
      "source": [
        "# cloud based editor for python \n",
        "# GOOGLE COLABORATORY \n",
        "# shift+enter - to run the current cell\n",
        "# ctrl + m + b (creates a new cell)"
      ]
    },
    {
      "cell_type": "code",
      "source": [
        "print(\"Hello world\")"
      ],
      "metadata": {
        "colab": {
          "base_uri": "https://localhost:8080/"
        },
        "id": "tYWqNzs_OCjH",
        "outputId": "29e34479-3cff-4069-d9e4-f7107055a6b7"
      },
      "execution_count": 2,
      "outputs": [
        {
          "output_type": "stream",
          "name": "stdout",
          "text": [
            "Hello world\n"
          ]
        }
      ]
    },
    {
      "cell_type": "code",
      "source": [
        "print(\"Hello world\")"
      ],
      "metadata": {
        "colab": {
          "base_uri": "https://localhost:8080/"
        },
        "id": "45RGtAkaOVxy",
        "outputId": "aafc732b-f2c6-4b48-a430-7032cc91c588"
      },
      "execution_count": 4,
      "outputs": [
        {
          "output_type": "stream",
          "name": "stdout",
          "text": [
            "Hello world\n"
          ]
        }
      ]
    },
    {
      "cell_type": "code",
      "source": [
        "print(\"Hello world\")"
      ],
      "metadata": {
        "colab": {
          "base_uri": "https://localhost:8080/"
        },
        "id": "ddJ8pWohOciT",
        "outputId": "f8564239-6220-431b-8370-97b523617796"
      },
      "execution_count": 5,
      "outputs": [
        {
          "output_type": "stream",
          "name": "stdout",
          "text": [
            "Hello world\n"
          ]
        }
      ]
    },
    {
      "cell_type": "code",
      "source": [
        "print(\"Hello world\")"
      ],
      "metadata": {
        "colab": {
          "base_uri": "https://localhost:8080/"
        },
        "id": "1N4d1q--Oc68",
        "outputId": "974bc950-0218-47d3-e4b3-87b140864016"
      },
      "execution_count": 6,
      "outputs": [
        {
          "output_type": "stream",
          "name": "stdout",
          "text": [
            "Hello world\n"
          ]
        }
      ]
    },
    {
      "cell_type": "code",
      "source": [
        "print(\"Hello world\")"
      ],
      "metadata": {
        "colab": {
          "base_uri": "https://localhost:8080/"
        },
        "id": "4J2w2SATOdL8",
        "outputId": "5dd21dd2-158c-4496-bd98-4cd0218beae0"
      },
      "execution_count": 7,
      "outputs": [
        {
          "output_type": "stream",
          "name": "stdout",
          "text": [
            "Hello world\n"
          ]
        }
      ]
    },
    {
      "cell_type": "code",
      "source": [
        "print(\"Hello world\")"
      ],
      "metadata": {
        "colab": {
          "base_uri": "https://localhost:8080/"
        },
        "id": "V1kLU2ANOdfM",
        "outputId": "22a22fb0-117e-433c-d3ba-eb4f8cfbb171"
      },
      "execution_count": 8,
      "outputs": [
        {
          "output_type": "stream",
          "name": "stdout",
          "text": [
            "Hello world\n"
          ]
        }
      ]
    },
    {
      "cell_type": "code",
      "source": [
        "# Variables and data types"
      ],
      "metadata": {
        "id": "K_GrS-J8PGtz"
      },
      "execution_count": 9,
      "outputs": []
    },
    {
      "cell_type": "code",
      "source": [
        "a = 1"
      ],
      "metadata": {
        "id": "wpABTXruQVEl"
      },
      "execution_count": 10,
      "outputs": []
    },
    {
      "cell_type": "code",
      "source": [
        "type(a)"
      ],
      "metadata": {
        "colab": {
          "base_uri": "https://localhost:8080/"
        },
        "id": "SJu68xXXQWDU",
        "outputId": "52e541cb-7f30-44ff-8cb4-7d5f94b53d19"
      },
      "execution_count": 11,
      "outputs": [
        {
          "output_type": "execute_result",
          "data": {
            "text/plain": [
              "int"
            ]
          },
          "metadata": {},
          "execution_count": 11
        }
      ]
    },
    {
      "cell_type": "code",
      "source": [
        "print(a)  #actual python syntax"
      ],
      "metadata": {
        "colab": {
          "base_uri": "https://localhost:8080/"
        },
        "id": "MyosL39jQdgT",
        "outputId": "9a7192e8-1422-4290-b3f3-56aa10753874"
      },
      "execution_count": 12,
      "outputs": [
        {
          "output_type": "stream",
          "name": "stdout",
          "text": [
            "1\n"
          ]
        }
      ]
    },
    {
      "cell_type": "code",
      "source": [
        "a  #exclusive for python notebooks only (you can print a single line without using the print keyword)"
      ],
      "metadata": {
        "colab": {
          "base_uri": "https://localhost:8080/"
        },
        "id": "sxElXEq0QnoR",
        "outputId": "0c72db65-6e50-4655-c1ec-011d7d5fb496"
      },
      "execution_count": 13,
      "outputs": [
        {
          "output_type": "execute_result",
          "data": {
            "text/plain": [
              "1"
            ]
          },
          "metadata": {},
          "execution_count": 13
        }
      ]
    },
    {
      "cell_type": "code",
      "source": [
        "b = 5 "
      ],
      "metadata": {
        "id": "wqL74nJCQqJR"
      },
      "execution_count": 14,
      "outputs": []
    },
    {
      "cell_type": "code",
      "source": [
        "print(b)"
      ],
      "metadata": {
        "colab": {
          "base_uri": "https://localhost:8080/"
        },
        "id": "lB94GJtnQs6M",
        "outputId": "3145a0b5-b559-4cf7-8129-06df355402be"
      },
      "execution_count": 15,
      "outputs": [
        {
          "output_type": "stream",
          "name": "stdout",
          "text": [
            "5\n"
          ]
        }
      ]
    },
    {
      "cell_type": "code",
      "source": [
        "b"
      ],
      "metadata": {
        "colab": {
          "base_uri": "https://localhost:8080/"
        },
        "id": "Z0AWEglBQteq",
        "outputId": "f8b7caf6-233d-496b-af7c-2f19c2479e84"
      },
      "execution_count": 16,
      "outputs": [
        {
          "output_type": "execute_result",
          "data": {
            "text/plain": [
              "5"
            ]
          },
          "metadata": {},
          "execution_count": 16
        }
      ]
    },
    {
      "cell_type": "code",
      "source": [
        "a\n",
        "b\n",
        "# if we want to print two statements then print(a) is supposed to be used "
      ],
      "metadata": {
        "colab": {
          "base_uri": "https://localhost:8080/"
        },
        "id": "gnL0zxXLQty7",
        "outputId": "bd7741e9-c2dc-48c1-b65c-27af7e351a2e"
      },
      "execution_count": 17,
      "outputs": [
        {
          "output_type": "execute_result",
          "data": {
            "text/plain": [
              "5"
            ]
          },
          "metadata": {},
          "execution_count": 17
        }
      ]
    },
    {
      "cell_type": "code",
      "source": [
        "print(a)\n",
        "print(b)"
      ],
      "metadata": {
        "colab": {
          "base_uri": "https://localhost:8080/"
        },
        "id": "yu30BtCsRDLF",
        "outputId": "fd8c2752-4f03-4dbb-a070-f1ab2a8514ac"
      },
      "execution_count": 18,
      "outputs": [
        {
          "output_type": "stream",
          "name": "stdout",
          "text": [
            "1\n",
            "5\n"
          ]
        }
      ]
    },
    {
      "cell_type": "code",
      "source": [
        "type(a)"
      ],
      "metadata": {
        "colab": {
          "base_uri": "https://localhost:8080/"
        },
        "id": "64k4xvAmROEq",
        "outputId": "ea3170e8-f85c-4da4-e9f3-67a2e1080341"
      },
      "execution_count": 19,
      "outputs": [
        {
          "output_type": "execute_result",
          "data": {
            "text/plain": [
              "int"
            ]
          },
          "metadata": {},
          "execution_count": 19
        }
      ]
    },
    {
      "cell_type": "code",
      "source": [
        "type(b)"
      ],
      "metadata": {
        "colab": {
          "base_uri": "https://localhost:8080/"
        },
        "id": "HTwx_nSIRYUD",
        "outputId": "dea0d20c-c602-4968-ca4b-0d51f2715fdf"
      },
      "execution_count": 20,
      "outputs": [
        {
          "output_type": "execute_result",
          "data": {
            "text/plain": [
              "int"
            ]
          },
          "metadata": {},
          "execution_count": 20
        }
      ]
    },
    {
      "cell_type": "code",
      "source": [
        "print(type(a))   #actual syntax\n",
        "print(type(b))"
      ],
      "metadata": {
        "colab": {
          "base_uri": "https://localhost:8080/"
        },
        "id": "nc7MgxSwRZCl",
        "outputId": "5a790c8f-f5d1-45fb-f0d5-51fb7193fc66"
      },
      "execution_count": 21,
      "outputs": [
        {
          "output_type": "stream",
          "name": "stdout",
          "text": [
            "<class 'int'>\n",
            "<class 'int'>\n"
          ]
        }
      ]
    },
    {
      "cell_type": "code",
      "source": [
        "a = 1.786\n",
        "type(a)"
      ],
      "metadata": {
        "colab": {
          "base_uri": "https://localhost:8080/"
        },
        "id": "6BpKL5EzRzDQ",
        "outputId": "059d7be4-7c47-480f-a055-1951ea71d184"
      },
      "execution_count": 22,
      "outputs": [
        {
          "output_type": "execute_result",
          "data": {
            "text/plain": [
              "float"
            ]
          },
          "metadata": {},
          "execution_count": 22
        }
      ]
    },
    {
      "cell_type": "code",
      "source": [
        "a,b      # prints the values like a tuple"
      ],
      "metadata": {
        "colab": {
          "base_uri": "https://localhost:8080/"
        },
        "id": "ceCgj8XKSERM",
        "outputId": "af7aa7bd-82ae-4e2d-cd43-295d7546f9c1"
      },
      "execution_count": 23,
      "outputs": [
        {
          "output_type": "execute_result",
          "data": {
            "text/plain": [
              "(1.786, 5)"
            ]
          },
          "metadata": {},
          "execution_count": 23
        }
      ]
    },
    {
      "cell_type": "code",
      "source": [
        "a = 't'\n",
        "b = \"t\"\n",
        "c = 'hello'\n",
        "d = \"hello\""
      ],
      "metadata": {
        "id": "PHR0JnUoSNao"
      },
      "execution_count": 24,
      "outputs": []
    },
    {
      "cell_type": "code",
      "source": [
        "print(type(a))\n",
        "print(type(b))\n",
        "print(type(c))\n",
        "print(type(d))"
      ],
      "metadata": {
        "colab": {
          "base_uri": "https://localhost:8080/"
        },
        "id": "FnTXYAm7SmLz",
        "outputId": "e9357495-09d4-4632-abc6-57a90c06299e"
      },
      "execution_count": 25,
      "outputs": [
        {
          "output_type": "stream",
          "name": "stdout",
          "text": [
            "<class 'str'>\n",
            "<class 'str'>\n",
            "<class 'str'>\n",
            "<class 'str'>\n"
          ]
        }
      ]
    },
    {
      "cell_type": "code",
      "source": [
        "a = True\n",
        "b = False \n",
        "print(type(a))\n",
        "print(type(b))"
      ],
      "metadata": {
        "colab": {
          "base_uri": "https://localhost:8080/"
        },
        "id": "NHhQktOoS0ii",
        "outputId": "4bcbc1e0-6d36-452e-e911-dfb781676cdb"
      },
      "execution_count": 26,
      "outputs": [
        {
          "output_type": "stream",
          "name": "stdout",
          "text": [
            "<class 'bool'>\n",
            "<class 'bool'>\n"
          ]
        }
      ]
    },
    {
      "cell_type": "code",
      "source": [
        "a = True \n",
        "print(type(a))"
      ],
      "metadata": {
        "colab": {
          "base_uri": "https://localhost:8080/"
        },
        "id": "OaKdiSy-TFhm",
        "outputId": "be61f378-97de-4498-bd6b-a5c636f931b8"
      },
      "execution_count": 27,
      "outputs": [
        {
          "output_type": "stream",
          "name": "stdout",
          "text": [
            "<class 'bool'>\n"
          ]
        }
      ]
    },
    {
      "cell_type": "code",
      "source": [
        "b = False \n",
        "print(type(b))"
      ],
      "metadata": {
        "colab": {
          "base_uri": "https://localhost:8080/"
        },
        "id": "aVJdEQxsTVLl",
        "outputId": "6790958d-29ea-4920-e474-4368f6c72601"
      },
      "execution_count": 28,
      "outputs": [
        {
          "output_type": "stream",
          "name": "stdout",
          "text": [
            "<class 'bool'>\n"
          ]
        }
      ]
    },
    {
      "cell_type": "code",
      "source": [
        "a = 3+5j\n",
        "print(type(a))"
      ],
      "metadata": {
        "colab": {
          "base_uri": "https://localhost:8080/"
        },
        "id": "nwPc5GUmTkCx",
        "outputId": "5750ef49-1b9c-4bb7-9c60-32535d1bd0d9"
      },
      "execution_count": 29,
      "outputs": [
        {
          "output_type": "stream",
          "name": "stdout",
          "text": [
            "<class 'complex'>\n"
          ]
        }
      ]
    },
    {
      "cell_type": "code",
      "source": [
        "# 1. integer\n",
        "# 2. float\n",
        "# '''\n",
        "# 3. string\n",
        "# 4. boolean\n",
        "# 5. complex \n",
        "# '''\n",
        "# print(\"Hello world\")\n",
        "# ctrl+a, ctrl + /\n",
        "#                  #   - single line comment\n",
        "# '''your code here''' -  multi line comment "
      ],
      "metadata": {
        "id": "cOk82bT5T5DG"
      },
      "execution_count": 30,
      "outputs": []
    },
    {
      "cell_type": "code",
      "source": [
        "# input() statment"
      ],
      "metadata": {
        "id": "2DS_djq1UZRj"
      },
      "execution_count": 31,
      "outputs": []
    },
    {
      "cell_type": "code",
      "source": [
        "a = input(\"Enter the text :\")\n",
        "print(\"The entered statement is :\",a)"
      ],
      "metadata": {
        "colab": {
          "base_uri": "https://localhost:8080/"
        },
        "id": "_nGCxMBIVkAp",
        "outputId": "72c933c3-6ae8-45d2-918a-290a25694e13"
      },
      "execution_count": 32,
      "outputs": [
        {
          "output_type": "stream",
          "name": "stdout",
          "text": [
            "Enter the text :India is my country\n",
            "The entered statement is : India is my country\n"
          ]
        }
      ]
    },
    {
      "cell_type": "code",
      "source": [
        "type(a)"
      ],
      "metadata": {
        "colab": {
          "base_uri": "https://localhost:8080/"
        },
        "id": "OVvv8sGLV3Q_",
        "outputId": "9d3a9eba-d7f6-4848-97ba-08cdc5a7c3e5"
      },
      "execution_count": 33,
      "outputs": [
        {
          "output_type": "execute_result",
          "data": {
            "text/plain": [
              "str"
            ]
          },
          "metadata": {},
          "execution_count": 33
        }
      ]
    },
    {
      "cell_type": "code",
      "source": [
        "a = 4\n",
        "b = 5"
      ],
      "metadata": {
        "id": "rG3IndNCWMF8"
      },
      "execution_count": 34,
      "outputs": []
    },
    {
      "cell_type": "code",
      "source": [
        "a+b"
      ],
      "metadata": {
        "colab": {
          "base_uri": "https://localhost:8080/"
        },
        "id": "D7Ne601DWTBr",
        "outputId": "459b7331-4cc2-4760-85d5-f8ad8b0ae829"
      },
      "execution_count": 35,
      "outputs": [
        {
          "output_type": "execute_result",
          "data": {
            "text/plain": [
              "9"
            ]
          },
          "metadata": {},
          "execution_count": 35
        }
      ]
    },
    {
      "cell_type": "code",
      "source": [
        "a-b"
      ],
      "metadata": {
        "colab": {
          "base_uri": "https://localhost:8080/"
        },
        "id": "BEVWXd5TWTj5",
        "outputId": "cd573ba8-93b2-4089-ae9b-b5fcafc995af"
      },
      "execution_count": 36,
      "outputs": [
        {
          "output_type": "execute_result",
          "data": {
            "text/plain": [
              "-1"
            ]
          },
          "metadata": {},
          "execution_count": 36
        }
      ]
    },
    {
      "cell_type": "code",
      "source": [
        "a*b"
      ],
      "metadata": {
        "colab": {
          "base_uri": "https://localhost:8080/"
        },
        "id": "E7SSzEm3WV3o",
        "outputId": "13e0b577-aeda-4741-bd9b-8b36b14501d3"
      },
      "execution_count": 37,
      "outputs": [
        {
          "output_type": "execute_result",
          "data": {
            "text/plain": [
              "20"
            ]
          },
          "metadata": {},
          "execution_count": 37
        }
      ]
    },
    {
      "cell_type": "code",
      "source": [
        "a/b   # quotient"
      ],
      "metadata": {
        "colab": {
          "base_uri": "https://localhost:8080/"
        },
        "id": "RZULHrpJWWZi",
        "outputId": "56616dd8-e504-4eb3-bec8-a3124a782ea6"
      },
      "execution_count": 38,
      "outputs": [
        {
          "output_type": "execute_result",
          "data": {
            "text/plain": [
              "0.8"
            ]
          },
          "metadata": {},
          "execution_count": 38
        }
      ]
    },
    {
      "cell_type": "code",
      "source": [
        "a%b   #remainder"
      ],
      "metadata": {
        "colab": {
          "base_uri": "https://localhost:8080/"
        },
        "id": "Ma9g5BgkWW7Y",
        "outputId": "bfe98c7a-44e2-44a5-d90d-3bf6fb3b25f0"
      },
      "execution_count": 39,
      "outputs": [
        {
          "output_type": "execute_result",
          "data": {
            "text/plain": [
              "4"
            ]
          },
          "metadata": {},
          "execution_count": 39
        }
      ]
    },
    {
      "cell_type": "code",
      "source": [
        "a//b   #floor division (gives only the integer part of the quotient)"
      ],
      "metadata": {
        "colab": {
          "base_uri": "https://localhost:8080/"
        },
        "id": "3bgd85RpWbcW",
        "outputId": "413ce688-c043-4929-8a05-996dd06a68d5"
      },
      "execution_count": 40,
      "outputs": [
        {
          "output_type": "execute_result",
          "data": {
            "text/plain": [
              "0"
            ]
          },
          "metadata": {},
          "execution_count": 40
        }
      ]
    },
    {
      "cell_type": "code",
      "source": [
        "a = input(\"Enter 1st number :\")\n",
        "b = input(\"Enter 2nd number :\")"
      ],
      "metadata": {
        "colab": {
          "base_uri": "https://localhost:8080/"
        },
        "id": "AYs68FrrWb6x",
        "outputId": "e9a99c58-ce4d-4fea-f48f-f1105d713e88"
      },
      "execution_count": 42,
      "outputs": [
        {
          "name": "stdout",
          "output_type": "stream",
          "text": [
            "Enter 1st number :5\n",
            "Enter 2nd number :7\n"
          ]
        }
      ]
    },
    {
      "cell_type": "code",
      "source": [
        "a+b #string concatenation"
      ],
      "metadata": {
        "colab": {
          "base_uri": "https://localhost:8080/",
          "height": 35
        },
        "id": "aGwoQxx6W0PC",
        "outputId": "95d85e67-0a60-4c76-e3df-b810e4853a0e"
      },
      "execution_count": 43,
      "outputs": [
        {
          "output_type": "execute_result",
          "data": {
            "text/plain": [
              "'57'"
            ],
            "application/vnd.google.colaboratory.intrinsic+json": {
              "type": "string"
            }
          },
          "metadata": {},
          "execution_count": 43
        }
      ]
    },
    {
      "cell_type": "code",
      "source": [
        "a-b # a,b are string data types so it will result in error"
      ],
      "metadata": {
        "id": "N29HB0ujW2KA"
      },
      "execution_count": null,
      "outputs": []
    },
    {
      "cell_type": "code",
      "source": [
        "a = int(input(\"Enter 1st number :\"))\n",
        "b = int(input(\"Enter 2nd number :\"))"
      ],
      "metadata": {
        "colab": {
          "base_uri": "https://localhost:8080/"
        },
        "id": "SkCe_oH6W4Wl",
        "outputId": "5d11d5e8-69f9-47be-9ecc-01ebc2aa97c1"
      },
      "execution_count": 45,
      "outputs": [
        {
          "name": "stdout",
          "output_type": "stream",
          "text": [
            "Enter 1st number :10\n",
            "Enter 2nd number :2\n"
          ]
        }
      ]
    },
    {
      "cell_type": "code",
      "source": [
        "a+b"
      ],
      "metadata": {
        "colab": {
          "base_uri": "https://localhost:8080/"
        },
        "id": "u9-qjUVOXR_c",
        "outputId": "b9f5cbfe-64d5-43ea-acd0-0b8821c6987d"
      },
      "execution_count": 46,
      "outputs": [
        {
          "output_type": "execute_result",
          "data": {
            "text/plain": [
              "12"
            ]
          },
          "metadata": {},
          "execution_count": 46
        }
      ]
    },
    {
      "cell_type": "code",
      "source": [
        "a-b"
      ],
      "metadata": {
        "colab": {
          "base_uri": "https://localhost:8080/"
        },
        "id": "l1Klf68kXTUj",
        "outputId": "0a2dc2e1-d503-4487-c407-ec7d98883f6f"
      },
      "execution_count": 47,
      "outputs": [
        {
          "output_type": "execute_result",
          "data": {
            "text/plain": [
              "8"
            ]
          },
          "metadata": {},
          "execution_count": 47
        }
      ]
    },
    {
      "cell_type": "code",
      "source": [
        "a = float(input(\"Enter 1st number :\"))\n",
        "b = float(input(\"Enter 2nd number :\"))"
      ],
      "metadata": {
        "colab": {
          "base_uri": "https://localhost:8080/"
        },
        "id": "VjXduz3oXTsV",
        "outputId": "f8c5337f-4531-447f-e3e7-b33854a2e7a6"
      },
      "execution_count": 48,
      "outputs": [
        {
          "name": "stdout",
          "output_type": "stream",
          "text": [
            "Enter 1st number :7.89\n",
            "Enter 2nd number :5.093\n"
          ]
        }
      ]
    },
    {
      "cell_type": "code",
      "source": [
        "# strings \n",
        "# raw string \n",
        "# formatted string"
      ],
      "metadata": {
        "id": "pHbzVwO4XXlQ"
      },
      "execution_count": 49,
      "outputs": []
    },
    {
      "cell_type": "code",
      "source": [
        "a = \"Hello world\""
      ],
      "metadata": {
        "id": "eobe2PyWXvyG"
      },
      "execution_count": 50,
      "outputs": []
    },
    {
      "cell_type": "code",
      "source": [
        "type(a)"
      ],
      "metadata": {
        "colab": {
          "base_uri": "https://localhost:8080/"
        },
        "id": "RVclnA2xX0OS",
        "outputId": "8394f678-9ac0-4a1d-b62f-a6a603177254"
      },
      "execution_count": 51,
      "outputs": [
        {
          "output_type": "execute_result",
          "data": {
            "text/plain": [
              "str"
            ]
          },
          "metadata": {},
          "execution_count": 51
        }
      ]
    },
    {
      "cell_type": "code",
      "source": [
        "b = \"HELLO WORLD\""
      ],
      "metadata": {
        "id": "_rfr2QQ4X1Ei"
      },
      "execution_count": 52,
      "outputs": []
    },
    {
      "cell_type": "code",
      "source": [
        "a+b"
      ],
      "metadata": {
        "colab": {
          "base_uri": "https://localhost:8080/",
          "height": 35
        },
        "id": "lbzstdTZX410",
        "outputId": "6b60aaa0-07b1-4e97-9c20-74d698c79231"
      },
      "execution_count": 53,
      "outputs": [
        {
          "output_type": "execute_result",
          "data": {
            "text/plain": [
              "'Hello worldHELLO WORLD'"
            ],
            "application/vnd.google.colaboratory.intrinsic+json": {
              "type": "string"
            }
          },
          "metadata": {},
          "execution_count": 53
        }
      ]
    },
    {
      "cell_type": "code",
      "source": [
        "a = \"Hello world\"\n",
        "b = \"HELLO WORLD\"\n",
        "print(a,b)"
      ],
      "metadata": {
        "colab": {
          "base_uri": "https://localhost:8080/"
        },
        "id": "bAc71bfwX5cS",
        "outputId": "083f484f-63f7-4fa3-adbd-a4c4ab29518c"
      },
      "execution_count": 54,
      "outputs": [
        {
          "output_type": "stream",
          "name": "stdout",
          "text": [
            "Hello world HELLO WORLD\n"
          ]
        }
      ]
    },
    {
      "cell_type": "code",
      "source": [
        "# raw string - removes the special meaning of these escape sequences and prints the string as it is \n",
        "\n",
        "print('C:\\program Files\\adobe\\adobe Illustrator CC 2017\\book\\total_books\\new folder')\n",
        "# escape sequences (\\n,\\t,\\b,\\a - special meanings in python)\n",
        "print(r'C:\\program Files\\adobe\\adobe Illustrator CC 2017\\book\\total_books\\new folder')"
      ],
      "metadata": {
        "colab": {
          "base_uri": "https://localhost:8080/"
        },
        "id": "rj55mEVzYCZ8",
        "outputId": "5adcad6a-bc27-4bf2-9bf5-6fa0db2b7815"
      },
      "execution_count": 55,
      "outputs": [
        {
          "output_type": "stream",
          "name": "stdout",
          "text": [
            "C:\\program Files\u0007dobe\u0007dobe Illustrator CC 2017\book\total_books\n",
            "ew folder\n",
            "C:\\program Files\\adobe\\adobe Illustrator CC 2017\\book\\total_books\\new folder\n"
          ]
        }
      ]
    },
    {
      "cell_type": "code",
      "source": [
        "# FORMATTED STRING - refers to the value present inside the variable and prints it within the string \n",
        "\n",
        "a = int(input(\"Enter 1st number :\"))\n",
        "b = int(input(\"Enter 2nd number :\"))"
      ],
      "metadata": {
        "colab": {
          "base_uri": "https://localhost:8080/"
        },
        "id": "_MZfyUk8Z8YA",
        "outputId": "31c820b2-fe39-44be-848a-19c0d24606c5"
      },
      "execution_count": 56,
      "outputs": [
        {
          "name": "stdout",
          "output_type": "stream",
          "text": [
            "Enter 1st number :10\n",
            "Enter 2nd number :5\n"
          ]
        }
      ]
    },
    {
      "cell_type": "code",
      "source": [
        "print(\"Addition of a and b is :\",a+b)\n",
        "print(\"subtraction of a and b is :\",a-b)\n",
        "print(\"Muliplication of a and b is :\",a*b)\n",
        "print(\"Division of a and b is :\",a/b)\n",
        "print(\"Modulus of a and b is :\",a%b)\n",
        "print(\"Floor division of a and b is :\",a //b)"
      ],
      "metadata": {
        "colab": {
          "base_uri": "https://localhost:8080/"
        },
        "id": "eT9liMngaC9S",
        "outputId": "a37bcb48-935a-4006-e00a-58a190ead487"
      },
      "execution_count": 57,
      "outputs": [
        {
          "output_type": "stream",
          "name": "stdout",
          "text": [
            "Addition of a and b is : 15\n",
            "subtraction of a and b is : 5\n",
            "Muliplication of a and b is : 50\n",
            "Division of a and b is : 2.0\n",
            "Modulus of a and b is : 0\n",
            "Floor division of a and b is : 2\n"
          ]
        }
      ]
    },
    {
      "cell_type": "code",
      "source": [
        "print(f\"Addition of {a} and {b} is :\",a+b)\n",
        "print(f\"subtraction of {a} and {b} is :\",a-b)\n",
        "print(f\"Muliplication of {a} and {b} is :\",a*b)\n",
        "print(f\"Division of {a} and {b} is :\",a/b)\n",
        "print(\"Modulus of {a} and {b} is :\",a%b)\n",
        "print(f\"Floor division of a and b is :\",a //b)"
      ],
      "metadata": {
        "colab": {
          "base_uri": "https://localhost:8080/"
        },
        "id": "qMahMaFeagq5",
        "outputId": "31b6e634-cd2c-4d7c-b551-48b1585cebfc"
      },
      "execution_count": 58,
      "outputs": [
        {
          "output_type": "stream",
          "name": "stdout",
          "text": [
            "Addition of 10 and 5 is : 15\n",
            "subtraction of 10 and 5 is : 5\n",
            "Muliplication of 10 and 5 is : 50\n",
            "Division of 10 and 5 is : 2.0\n",
            "Modulus of {a} and {b} is : 0\n",
            "Floor division of a and b is : 2\n"
          ]
        }
      ]
    },
    {
      "cell_type": "code",
      "source": [
        "a = input(\"Enter 1st number :\")\n",
        "b = input(\"Enter 2nd number :\")\n",
        "print(f\"Addition of {a} and {b} is :\",a+b)"
      ],
      "metadata": {
        "colab": {
          "base_uri": "https://localhost:8080/"
        },
        "id": "Dui98E2BbQAo",
        "outputId": "f1e556d5-d093-42f1-be5f-9e11cc2122c4"
      },
      "execution_count": 59,
      "outputs": [
        {
          "output_type": "stream",
          "name": "stdout",
          "text": [
            "Enter 1st number :5\n",
            "Enter 2nd number :3\n",
            "Addition of 5 and 3 is : 53\n"
          ]
        }
      ]
    },
    {
      "cell_type": "code",
      "source": [
        "a = float(input(\"Enter 1st number :\"))\n",
        "b = float(input(\"Enter 2nd number :\"))\n",
        "print(f\"Addition of {a} and {b} is :\",a+b)"
      ],
      "metadata": {
        "colab": {
          "base_uri": "https://localhost:8080/"
        },
        "id": "o94M7P05ayy5",
        "outputId": "79cf2f36-2425-4977-8e3e-2985fbf52c4d"
      },
      "execution_count": 61,
      "outputs": [
        {
          "output_type": "stream",
          "name": "stdout",
          "text": [
            "Enter 1st number :3.89\n",
            "Enter 2nd number :4.45\n",
            "Addition of 3.89 and 4.45 is : 8.34\n"
          ]
        }
      ]
    },
    {
      "cell_type": "code",
      "source": [
        "print(a+b)\n",
        "print(round(a+b))"
      ],
      "metadata": {
        "colab": {
          "base_uri": "https://localhost:8080/"
        },
        "id": "aYT2IzFRbWhk",
        "outputId": "3d65be44-fb92-4a3d-8df2-e2548f84d5ce"
      },
      "execution_count": 62,
      "outputs": [
        {
          "output_type": "stream",
          "name": "stdout",
          "text": [
            "8.34\n",
            "8\n"
          ]
        }
      ]
    },
    {
      "cell_type": "code",
      "source": [
        "round(12.181999999999999,2)"
      ],
      "metadata": {
        "colab": {
          "base_uri": "https://localhost:8080/"
        },
        "id": "vFY9-ADrboYr",
        "outputId": "73b37d09-7e56-4446-9011-f500b41bb0c3"
      },
      "execution_count": 63,
      "outputs": [
        {
          "output_type": "execute_result",
          "data": {
            "text/plain": [
              "12.18"
            ]
          },
          "metadata": {},
          "execution_count": 63
        }
      ]
    },
    {
      "cell_type": "code",
      "source": [
        "# Square of a number \n",
        "a = float(input(\"Enter a number :\"))\n",
        "# square = a*a\n",
        "square = a**2\n",
        "print(f\"Square of {a} is :\",square)"
      ],
      "metadata": {
        "colab": {
          "base_uri": "https://localhost:8080/"
        },
        "id": "yK2QYzXwcASN",
        "outputId": "88dc95e9-0a6f-4623-a18e-dbec82de7090"
      },
      "execution_count": 64,
      "outputs": [
        {
          "output_type": "stream",
          "name": "stdout",
          "text": [
            "Enter a number :4\n",
            "Square of 4.0 is : 16.0\n"
          ]
        }
      ]
    },
    {
      "cell_type": "code",
      "source": [
        "# Control statements \n",
        "# if, else, if else conditions "
      ],
      "metadata": {
        "id": "pjkeUfyag3Lk"
      },
      "execution_count": 65,
      "outputs": []
    },
    {
      "cell_type": "code",
      "source": [
        "10%2"
      ],
      "metadata": {
        "colab": {
          "base_uri": "https://localhost:8080/"
        },
        "id": "EFEuvaqwh2UY",
        "outputId": "23812f46-4669-457b-9e6c-416de0e4de9d"
      },
      "execution_count": 66,
      "outputs": [
        {
          "output_type": "execute_result",
          "data": {
            "text/plain": [
              "0"
            ]
          },
          "metadata": {},
          "execution_count": 66
        }
      ]
    },
    {
      "cell_type": "code",
      "source": [
        "# if condition (indentation)"
      ],
      "metadata": {
        "id": "yTJ36h8LieKL"
      },
      "execution_count": 67,
      "outputs": []
    },
    {
      "cell_type": "code",
      "source": [
        "# Even or odd program \n",
        "a = 11\n",
        "if a%2==0:\n",
        "  print(\"the number is even\")\n",
        "if a%2!=0:\n",
        "  print(\"the number is odd\")\n",
        "\n",
        "# indentation in IDLE  - 1 tab space = 4 spaces    \n",
        "# indentation in colab - 1 tab space = 2 spaces"
      ],
      "metadata": {
        "colab": {
          "base_uri": "https://localhost:8080/"
        },
        "id": "GrgfdzZDhYVf",
        "outputId": "425f474d-2bf3-4cc6-a835-ba331031b319"
      },
      "execution_count": 68,
      "outputs": [
        {
          "output_type": "stream",
          "name": "stdout",
          "text": [
            "the number is odd\n"
          ]
        }
      ]
    },
    {
      "cell_type": "code",
      "source": [
        "# Even or odd program \n",
        "a = int(input(\"Enter the number :\"))\n",
        "if a%2==0:\n",
        "  print(f\"the number {a} is even\")\n",
        "if a%2!=0:\n",
        "  print(f\"the number {a} is odd\")"
      ],
      "metadata": {
        "colab": {
          "base_uri": "https://localhost:8080/"
        },
        "id": "sPkzer_hh8n4",
        "outputId": "163d73b6-6e48-4e51-cadf-4b18e31f30e0"
      },
      "execution_count": 69,
      "outputs": [
        {
          "output_type": "stream",
          "name": "stdout",
          "text": [
            "Enter the number :67\n",
            "the number 67 is odd\n"
          ]
        }
      ]
    },
    {
      "cell_type": "code",
      "source": [
        "# Even or odd program \n",
        "a = int(input(\"Enter the number :\"))\n",
        "if a%2==0:\n",
        "  print(\"the number is even\")\n",
        "else:\n",
        "  print(\"the number is odd\")"
      ],
      "metadata": {
        "colab": {
          "base_uri": "https://localhost:8080/"
        },
        "id": "oOWIOtwejOkl",
        "outputId": "f74423f4-859f-4eb5-f0b9-8fec18d055d9"
      },
      "execution_count": 70,
      "outputs": [
        {
          "output_type": "stream",
          "name": "stdout",
          "text": [
            "Enter the number :10\n",
            "the number is even\n"
          ]
        }
      ]
    },
    {
      "cell_type": "code",
      "source": [
        "a = input(\"Enter the season :\")\n",
        "if a == \"summer\" or a == \"Summer\" or a == \"SUMMER\":\n",
        "  print(\"Summer season\")\n",
        "elif a == \"winter\":\n",
        "  print(\"Winter season\")\n",
        "elif a == \"spring\":\n",
        "  print(\"spring season\")\n",
        "elif a == \"autumn\":\n",
        "  print(\"autumn season\")\n",
        "elif a == \"monsoon\":\n",
        "  print(\"monsoon season\")\n",
        "else:\n",
        "  print(\"Invalid entry\")"
      ],
      "metadata": {
        "colab": {
          "base_uri": "https://localhost:8080/"
        },
        "id": "OoTrhV3GjX4a",
        "outputId": "ba3397c9-fb06-4b0f-b8d2-af294a5d2732"
      },
      "execution_count": 71,
      "outputs": [
        {
          "output_type": "stream",
          "name": "stdout",
          "text": [
            "Enter the season :SUMMer\n",
            "Invalid entry\n"
          ]
        }
      ]
    },
    {
      "cell_type": "code",
      "source": [
        "a = input(\"Enter the season :\")\n",
        "a = a.lower() \n",
        "if a == \"summer\" or a == \"Summer\" or a == \"SUMMER\":\n",
        "  print(\"Summer season\")\n",
        "elif a == \"winter\":\n",
        "  print(\"Winter season\")\n",
        "elif a == \"spring\":\n",
        "  print(\"spring season\")\n",
        "elif a == \"autumn\":\n",
        "  print(\"autumn season\")\n",
        "elif a == \"monsoon\":\n",
        "  print(\"monsoon season\")\n",
        "else:\n",
        "  print(\"Invalid entry\")"
      ],
      "metadata": {
        "colab": {
          "base_uri": "https://localhost:8080/"
        },
        "id": "v7LFWkVykbRf",
        "outputId": "70a69a4a-e346-4cf8-a801-0c7c95743969"
      },
      "execution_count": 72,
      "outputs": [
        {
          "output_type": "stream",
          "name": "stdout",
          "text": [
            "Enter the season :Monsoon\n",
            "monsoon season\n"
          ]
        }
      ]
    },
    {
      "cell_type": "code",
      "source": [
        "# Assignment : \n",
        "# 1.write a code to check which number is largest out of the three numbers and print it\n",
        "# 2.write a code to check if person is eligible to vote or not,if the person is not eligible, then print after how many years will he/she be eligible \n",
        "# 3.write a program to find the square root a number obtained from a user input (use formatted strings)"
      ],
      "metadata": {
        "id": "irbJmUKPc3Bv"
      },
      "execution_count": 73,
      "outputs": []
    },
    {
      "cell_type": "code",
      "source": [
        "# QUESTION:1\n",
        "a=int(input(\"enter number:\"))\n",
        "b=int(input(\"enter number:\"))\n",
        "c=int(input(\"enter number:\"))\n",
        "if (a>b) and (a>c):\n",
        "  print(f\"The greater number is {a}\")\n",
        "elif ((b>c) and (b>a)):\n",
        "  print(f\"The greater number is {b}\")\n",
        "else:\n",
        "  print(f\"The greater number is {c}\")\n",
        "  "
      ],
      "metadata": {
        "id": "4rV0Grn9l271",
        "outputId": "a836afaf-c1e7-4912-fc3d-01fe38136bf9",
        "colab": {
          "base_uri": "https://localhost:8080/"
        }
      },
      "execution_count": 74,
      "outputs": [
        {
          "output_type": "stream",
          "name": "stdout",
          "text": [
            "enter number:10\n",
            "enter number:12\n",
            "enter number:13\n",
            "The greater number is 13\n"
          ]
        }
      ]
    },
    {
      "cell_type": "code",
      "source": [
        "# Question 2:\n",
        "vote_age=int(input(\"enter age:\"))\n",
        "if (vote_age>=18):\n",
        "  print(\"Eligible to vote\")\n",
        "else:\n",
        "  print(\"Not elligible to vote, You will be elligible in \",18-vote_age,\"years\")"
      ],
      "metadata": {
        "id": "IDGjesFK-vBx",
        "outputId": "c0d63a97-8f5f-4674-8eaf-9daf3e0ee7f1",
        "colab": {
          "base_uri": "https://localhost:8080/"
        }
      },
      "execution_count": 76,
      "outputs": [
        {
          "output_type": "stream",
          "name": "stdout",
          "text": [
            "enter age:13\n",
            "Not elligible to vote, You will be elligible in  5 years\n"
          ]
        }
      ]
    },
    {
      "cell_type": "code",
      "source": [
        "# Question 3:\n",
        "num=int(input(\"enter number:\"))\n",
        "square=num**2\n",
        "print(f\"The square of {num} is {square}\")"
      ],
      "metadata": {
        "id": "TRRN67Zj_ccT",
        "outputId": "f610aab5-c4cb-420b-cb9c-c9963dc994c2",
        "colab": {
          "base_uri": "https://localhost:8080/"
        }
      },
      "execution_count": 77,
      "outputs": [
        {
          "output_type": "stream",
          "name": "stdout",
          "text": [
            "enter number:4\n",
            "The square of 4 is 16\n"
          ]
        }
      ]
    }
  ]
}