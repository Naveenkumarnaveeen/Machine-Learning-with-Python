{
  "nbformat": 4,
  "nbformat_minor": 0,
  "metadata": {
    "colab": {
      "provenance": [],
      "include_colab_link": true
    },
    "kernelspec": {
      "name": "python3",
      "display_name": "Python 3"
    },
    "language_info": {
      "name": "python"
    }
  },
  "cells": [
    {
      "cell_type": "markdown",
      "metadata": {
        "id": "view-in-github",
        "colab_type": "text"
      },
      "source": [
        "<a href=\"https://colab.research.google.com/github/Naveenkumarnaveeen/Machine-Learning-with-Python/blob/main/class_8.ipynb\" target=\"_parent\"><img src=\"https://colab.research.google.com/assets/colab-badge.svg\" alt=\"Open In Colab\"/></a>"
      ]
    },
    {
      "cell_type": "code",
      "execution_count": 1,
      "metadata": {
        "colab": {
          "base_uri": "https://localhost:8080/"
        },
        "id": "ZKi6z-8sOWCQ",
        "outputId": "81d15172-4f8c-4365-8822-b2d72fd9fcb9"
      },
      "outputs": [
        {
          "output_type": "stream",
          "name": "stdout",
          "text": [
            "0\n",
            "1\n",
            "2\n",
            "3\n",
            "4\n",
            "5\n",
            "6\n",
            "7\n"
          ]
        }
      ],
      "source": [
        "# break - we can stop the loop execution even though the condition inside the while loop is True\n",
        "\n",
        "a = 0 \n",
        "while a <= 20:\n",
        "  print(a)\n",
        "  if a == 7:\n",
        "    break    # terminates the loop once the given condition is satisfied \n",
        "  a = a + 1"
      ]
    },
    {
      "cell_type": "code",
      "source": [
        "# continue statement - stops the current iteration and it continues with the rest of the loop execution \n",
        "\n",
        "a = 0 \n",
        "while a <= 10:\n",
        "  a = a + 1\n",
        "  if a == 7:\n",
        "    continue\n",
        "  print(a)"
      ],
      "metadata": {
        "colab": {
          "base_uri": "https://localhost:8080/"
        },
        "id": "e5rb0onBO-RP",
        "outputId": "a19dd18c-981f-4e26-ae75-a104f7fd3490"
      },
      "execution_count": 2,
      "outputs": [
        {
          "output_type": "stream",
          "name": "stdout",
          "text": [
            "1\n",
            "2\n",
            "3\n",
            "4\n",
            "5\n",
            "6\n",
            "8\n",
            "9\n",
            "10\n",
            "11\n"
          ]
        }
      ]
    },
    {
      "cell_type": "code",
      "source": [
        "# STAR PATTERNS \n",
        "a = 0 \n",
        "while a <= 5:\n",
        "  print(a*\"* \") \n",
        "  a = a + 1"
      ],
      "metadata": {
        "colab": {
          "base_uri": "https://localhost:8080/"
        },
        "id": "6jRF0KafPw2C",
        "outputId": "ec0a7e4e-1655-4eda-ea21-0a5b548c8619"
      },
      "execution_count": 3,
      "outputs": [
        {
          "output_type": "stream",
          "name": "stdout",
          "text": [
            "\n",
            "* \n",
            "* * \n",
            "* * * \n",
            "* * * * \n",
            "* * * * * \n"
          ]
        }
      ]
    },
    {
      "cell_type": "code",
      "source": [
        "a = 0 \n",
        "while a <= 5:\n",
        "  print(a) \n",
        "  a = a + 1"
      ],
      "metadata": {
        "colab": {
          "base_uri": "https://localhost:8080/"
        },
        "id": "Xyw5cbDFQrPT",
        "outputId": "d5fa411d-b022-4893-f988-4098bda4dd84"
      },
      "execution_count": 4,
      "outputs": [
        {
          "output_type": "stream",
          "name": "stdout",
          "text": [
            "0\n",
            "1\n",
            "2\n",
            "3\n",
            "4\n",
            "5\n"
          ]
        }
      ]
    },
    {
      "cell_type": "code",
      "source": [
        "# STAR PATTERNS (decrement)\n",
        "a = 5 \n",
        "import time\n",
        "while a >= 0:\n",
        "  print(a*\"* \") \n",
        "  time.sleep(1)  #delay after every iteration \n",
        "  a = a - 1"
      ],
      "metadata": {
        "colab": {
          "base_uri": "https://localhost:8080/"
        },
        "id": "zEKwpFweQ17b",
        "outputId": "3c21ef19-e45f-4b89-e515-91f8f2600d85"
      },
      "execution_count": 5,
      "outputs": [
        {
          "output_type": "stream",
          "name": "stdout",
          "text": [
            "* * * * * \n",
            "* * * * \n",
            "* * * \n",
            "* * \n",
            "* \n",
            "\n"
          ]
        }
      ]
    },
    {
      "cell_type": "code",
      "source": [
        "#NESTED WHILE LOOP (one loop inside another)\n",
        "i = 1\n",
        "while i <= 5:\n",
        "  print(\"Python\",end = \" \")\n",
        "  j = 1 \n",
        "  while j <=1:\n",
        "    print(\"trainings\")\n",
        "    j = i + 1\n",
        "  i = i + 1"
      ],
      "metadata": {
        "colab": {
          "base_uri": "https://localhost:8080/"
        },
        "id": "JSFevjfgR6Rc",
        "outputId": "b0df8197-5ba5-4732-be9d-c09ab784cb9e"
      },
      "execution_count": 6,
      "outputs": [
        {
          "output_type": "stream",
          "name": "stdout",
          "text": [
            "Python trainings\n",
            "Python trainings\n",
            "Python trainings\n",
            "Python trainings\n",
            "Python trainings\n"
          ]
        }
      ]
    },
    {
      "cell_type": "code",
      "source": [
        "j = 1 \n",
        "while j <=1:\n",
        "  print(\"trainings\")\n",
        "  j = j + 1"
      ],
      "metadata": {
        "colab": {
          "base_uri": "https://localhost:8080/"
        },
        "id": "z3fSVlRISgfG",
        "outputId": "564cae5f-d485-4808-84c8-2587f8082991"
      },
      "execution_count": 7,
      "outputs": [
        {
          "output_type": "stream",
          "name": "stdout",
          "text": [
            "trainings\n"
          ]
        }
      ]
    },
    {
      "cell_type": "code",
      "source": [
        "# FOR LOOPS \n",
        "# syntax \n",
        "# for i in range(start,stop,step):\n",
        "#   statements "
      ],
      "metadata": {
        "id": "Dh2L6nzgTQzC"
      },
      "execution_count": 8,
      "outputs": []
    },
    {
      "cell_type": "code",
      "source": [
        "i = 0 \n",
        "while i <= 10:\n",
        "  print(i)\n",
        "  i = i + 1"
      ],
      "metadata": {
        "colab": {
          "base_uri": "https://localhost:8080/"
        },
        "id": "EETULJrXVFLd",
        "outputId": "28a08169-05df-434f-cd35-b8700a160ab6"
      },
      "execution_count": 9,
      "outputs": [
        {
          "output_type": "stream",
          "name": "stdout",
          "text": [
            "0\n",
            "1\n",
            "2\n",
            "3\n",
            "4\n",
            "5\n",
            "6\n",
            "7\n",
            "8\n",
            "9\n",
            "10\n"
          ]
        }
      ]
    },
    {
      "cell_type": "code",
      "source": [
        "for i in range(0,11,1):\n",
        "  print(i)"
      ],
      "metadata": {
        "colab": {
          "base_uri": "https://localhost:8080/"
        },
        "id": "1NKMP9gUU350",
        "outputId": "1c39b934-0b4f-4f12-f8ad-971421b282dc"
      },
      "execution_count": 10,
      "outputs": [
        {
          "output_type": "stream",
          "name": "stdout",
          "text": [
            "0\n",
            "1\n",
            "2\n",
            "3\n",
            "4\n",
            "5\n",
            "6\n",
            "7\n",
            "8\n",
            "9\n",
            "10\n"
          ]
        }
      ]
    },
    {
      "cell_type": "code",
      "source": [
        "for i in range(0,11):\n",
        "  print(i)"
      ],
      "metadata": {
        "colab": {
          "base_uri": "https://localhost:8080/"
        },
        "id": "el596Vy2VKWH",
        "outputId": "18ed7db2-f3e4-4e5f-a68a-40272a40a80e"
      },
      "execution_count": 11,
      "outputs": [
        {
          "output_type": "stream",
          "name": "stdout",
          "text": [
            "0\n",
            "1\n",
            "2\n",
            "3\n",
            "4\n",
            "5\n",
            "6\n",
            "7\n",
            "8\n",
            "9\n",
            "10\n"
          ]
        }
      ]
    },
    {
      "cell_type": "code",
      "source": [
        "for i in range(11):\n",
        "  print(i)"
      ],
      "metadata": {
        "colab": {
          "base_uri": "https://localhost:8080/"
        },
        "id": "Q9Me_neJVfni",
        "outputId": "4e1d8eff-49cd-462a-e561-612096eaa977"
      },
      "execution_count": 12,
      "outputs": [
        {
          "output_type": "stream",
          "name": "stdout",
          "text": [
            "0\n",
            "1\n",
            "2\n",
            "3\n",
            "4\n",
            "5\n",
            "6\n",
            "7\n",
            "8\n",
            "9\n",
            "10\n"
          ]
        }
      ]
    },
    {
      "cell_type": "code",
      "source": [
        "for i in range(0,21,2):\n",
        "  print(i)"
      ],
      "metadata": {
        "colab": {
          "base_uri": "https://localhost:8080/"
        },
        "id": "BFBKPcBQViQE",
        "outputId": "2586fbb3-5e23-48c0-ed02-0bdfc88044e0"
      },
      "execution_count": 13,
      "outputs": [
        {
          "output_type": "stream",
          "name": "stdout",
          "text": [
            "0\n",
            "2\n",
            "4\n",
            "6\n",
            "8\n",
            "10\n",
            "12\n",
            "14\n",
            "16\n",
            "18\n",
            "20\n"
          ]
        }
      ]
    },
    {
      "cell_type": "code",
      "source": [
        "# Assignment - 1. print all the odd numbers in negative order from 100 to 0 (using a for loop)\n",
        "#              2. print all the even numbers in negative order from 100 to 0 (using a for loop)"
      ],
      "metadata": {
        "id": "5-Zjz6-KV0_R"
      },
      "execution_count": null,
      "outputs": []
    },
    {
      "cell_type": "code",
      "source": [
        "#Answer:1\n",
        "for i in range(99,0,-2):\n",
        "  print(i)\n"
      ],
      "metadata": {
        "colab": {
          "base_uri": "https://localhost:8080/"
        },
        "id": "ykKj7h9MNXK-",
        "outputId": "a998b07d-3a08-4ab6-b533-a53d86985b75"
      },
      "execution_count": 14,
      "outputs": [
        {
          "output_type": "stream",
          "name": "stdout",
          "text": [
            "99\n",
            "97\n",
            "95\n",
            "93\n",
            "91\n",
            "89\n",
            "87\n",
            "85\n",
            "83\n",
            "81\n",
            "79\n",
            "77\n",
            "75\n",
            "73\n",
            "71\n",
            "69\n",
            "67\n",
            "65\n",
            "63\n",
            "61\n",
            "59\n",
            "57\n",
            "55\n",
            "53\n",
            "51\n",
            "49\n",
            "47\n",
            "45\n",
            "43\n",
            "41\n",
            "39\n",
            "37\n",
            "35\n",
            "33\n",
            "31\n",
            "29\n",
            "27\n",
            "25\n",
            "23\n",
            "21\n",
            "19\n",
            "17\n",
            "15\n",
            "13\n",
            "11\n",
            "9\n",
            "7\n",
            "5\n",
            "3\n",
            "1\n"
          ]
        }
      ]
    },
    {
      "cell_type": "code",
      "source": [
        "#Answer:2\n",
        "for i in range(100,0,-2):\n",
        "  print(i)"
      ],
      "metadata": {
        "colab": {
          "base_uri": "https://localhost:8080/"
        },
        "id": "P-f9CqoeNsJn",
        "outputId": "fa829012-8534-441c-ef5f-3e455d001c98"
      },
      "execution_count": 15,
      "outputs": [
        {
          "output_type": "stream",
          "name": "stdout",
          "text": [
            "100\n",
            "98\n",
            "96\n",
            "94\n",
            "92\n",
            "90\n",
            "88\n",
            "86\n",
            "84\n",
            "82\n",
            "80\n",
            "78\n",
            "76\n",
            "74\n",
            "72\n",
            "70\n",
            "68\n",
            "66\n",
            "64\n",
            "62\n",
            "60\n",
            "58\n",
            "56\n",
            "54\n",
            "52\n",
            "50\n",
            "48\n",
            "46\n",
            "44\n",
            "42\n",
            "40\n",
            "38\n",
            "36\n",
            "34\n",
            "32\n",
            "30\n",
            "28\n",
            "26\n",
            "24\n",
            "22\n",
            "20\n",
            "18\n",
            "16\n",
            "14\n",
            "12\n",
            "10\n",
            "8\n",
            "6\n",
            "4\n",
            "2\n"
          ]
        }
      ]
    },
    {
      "cell_type": "code",
      "source": [
        "for i in range(10,0,-1):\n",
        "  print(i)"
      ],
      "metadata": {
        "colab": {
          "base_uri": "https://localhost:8080/"
        },
        "id": "9PzP89cCWsUT",
        "outputId": "886ede3d-56f4-42fb-b2b8-b74a018c3d38"
      },
      "execution_count": 16,
      "outputs": [
        {
          "output_type": "stream",
          "name": "stdout",
          "text": [
            "10\n",
            "9\n",
            "8\n",
            "7\n",
            "6\n",
            "5\n",
            "4\n",
            "3\n",
            "2\n",
            "1\n"
          ]
        }
      ]
    },
    {
      "cell_type": "code",
      "source": [
        "# iteration through sequences \n",
        "lst1 = [\"microsft\",\"accenture\",\"hp\",\"google\",\"apple\",\"amazon\"]\n",
        "for i in lst1:  #this iterates through every item in a list\n",
        "  print(i)"
      ],
      "metadata": {
        "colab": {
          "base_uri": "https://localhost:8080/"
        },
        "id": "DShD9w8XWyD_",
        "outputId": "335f7c44-d6b7-4381-d409-697f9ba7a232"
      },
      "execution_count": 17,
      "outputs": [
        {
          "output_type": "stream",
          "name": "stdout",
          "text": [
            "microsft\n",
            "accenture\n",
            "hp\n",
            "google\n",
            "apple\n",
            "amazon\n"
          ]
        }
      ]
    },
    {
      "cell_type": "code",
      "source": [
        "tup1 = (\"meta\",\"apple\",\"amazon\",\"netflix\",\"google\")\n",
        "for i in tup1:  #this iterates through every item in a tuple\n",
        "  print(i)"
      ],
      "metadata": {
        "colab": {
          "base_uri": "https://localhost:8080/"
        },
        "id": "Y1gcdyvNXb_A",
        "outputId": "b339bac3-16e3-43f1-ca27-05e0ae06092f"
      },
      "execution_count": 18,
      "outputs": [
        {
          "output_type": "stream",
          "name": "stdout",
          "text": [
            "meta\n",
            "apple\n",
            "amazon\n",
            "netflix\n",
            "google\n"
          ]
        }
      ]
    },
    {
      "cell_type": "code",
      "source": [
        "str1 = \"MICROSOFT\"\n",
        "for i in str1:\n",
        "  print(i)"
      ],
      "metadata": {
        "colab": {
          "base_uri": "https://localhost:8080/"
        },
        "id": "TH-ZjQPoX1BB",
        "outputId": "363323bc-8d2c-485f-e156-6e10a6359cb0"
      },
      "execution_count": 19,
      "outputs": [
        {
          "output_type": "stream",
          "name": "stdout",
          "text": [
            "M\n",
            "I\n",
            "C\n",
            "R\n",
            "O\n",
            "S\n",
            "O\n",
            "F\n",
            "T\n"
          ]
        }
      ]
    },
    {
      "cell_type": "code",
      "source": [
        "s1 = {\"meta\",\"apple\",\"amazon\",\"netflix\",\"google\"}\n",
        "for i in s1:  #this iterates through every item in a tuple\n",
        "  print(i)"
      ],
      "metadata": {
        "colab": {
          "base_uri": "https://localhost:8080/"
        },
        "id": "bPyW3SMEX_B8",
        "outputId": "648e77af-2392-408d-bc24-65f53f845c3e"
      },
      "execution_count": 20,
      "outputs": [
        {
          "output_type": "stream",
          "name": "stdout",
          "text": [
            "amazon\n",
            "netflix\n",
            "apple\n",
            "meta\n",
            "google\n"
          ]
        }
      ]
    },
    {
      "cell_type": "code",
      "source": [
        "# for loop for tables creation \n",
        "n = int(input(\"Enter the tables :\"))\n",
        "for i in range(1,11):\n",
        "  print(f\"{n} x {i} = {n*i}\")"
      ],
      "metadata": {
        "colab": {
          "base_uri": "https://localhost:8080/"
        },
        "id": "ZVeulzzLYJbY",
        "outputId": "d0a06719-02f4-4750-acf6-4fe5a934576d"
      },
      "execution_count": 21,
      "outputs": [
        {
          "output_type": "stream",
          "name": "stdout",
          "text": [
            "Enter the tables :5\n",
            "5 x 1 = 5\n",
            "5 x 2 = 10\n",
            "5 x 3 = 15\n",
            "5 x 4 = 20\n",
            "5 x 5 = 25\n",
            "5 x 6 = 30\n",
            "5 x 7 = 35\n",
            "5 x 8 = 40\n",
            "5 x 9 = 45\n",
            "5 x 10 = 50\n"
          ]
        }
      ]
    },
    {
      "cell_type": "code",
      "source": [
        "# Nested for loops \n",
        "# Coordinates (0,1)   (10,5)\n",
        "\n",
        "for x in range(0,4,1):  #from 0 to 4 in steps of 1 \n",
        "  for y in range(0,5,1):#from 0 to 5 in steps of 1 \n",
        "    print(f\"({x},{y})\")\n",
        "    \n",
        "#  0(0,1,2,3,4)     1(0,1,2,3,4)    2(0,1,2,3,4)\n",
        "# x - 0,1,2,3\n",
        "# y - 0,1,2,3,4   (x,y)"
      ],
      "metadata": {
        "colab": {
          "base_uri": "https://localhost:8080/"
        },
        "id": "oRVP8bvUYn33",
        "outputId": "b8cad5a5-094f-41a4-d680-44fda0c29876"
      },
      "execution_count": 22,
      "outputs": [
        {
          "output_type": "stream",
          "name": "stdout",
          "text": [
            "(0,0)\n",
            "(0,1)\n",
            "(0,2)\n",
            "(0,3)\n",
            "(0,4)\n",
            "(1,0)\n",
            "(1,1)\n",
            "(1,2)\n",
            "(1,3)\n",
            "(1,4)\n",
            "(2,0)\n",
            "(2,1)\n",
            "(2,2)\n",
            "(2,3)\n",
            "(2,4)\n",
            "(3,0)\n",
            "(3,1)\n",
            "(3,2)\n",
            "(3,3)\n",
            "(3,4)\n"
          ]
        }
      ]
    },
    {
      "cell_type": "code",
      "source": [],
      "metadata": {
        "id": "4rV7mGdoZFRM"
      },
      "execution_count": null,
      "outputs": []
    }
  ]
}