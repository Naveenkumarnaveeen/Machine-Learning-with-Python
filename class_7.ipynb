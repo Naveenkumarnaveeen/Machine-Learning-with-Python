{
  "nbformat": 4,
  "nbformat_minor": 0,
  "metadata": {
    "colab": {
      "provenance": [],
      "include_colab_link": true
    },
    "kernelspec": {
      "name": "python3",
      "display_name": "Python 3"
    },
    "language_info": {
      "name": "python"
    }
  },
  "cells": [
    {
      "cell_type": "markdown",
      "metadata": {
        "id": "view-in-github",
        "colab_type": "text"
      },
      "source": [
        "<a href=\"https://colab.research.google.com/github/Naveenkumarnaveeen/Machine-Learning-with-Python/blob/main/class_7.ipynb\" target=\"_parent\"><img src=\"https://colab.research.google.com/assets/colab-badge.svg\" alt=\"Open In Colab\"/></a>"
      ]
    },
    {
      "cell_type": "markdown",
      "source": [
        "**LOOPS IN PYTHON**"
      ],
      "metadata": {
        "id": "BLX64gguDISv"
      }
    },
    {
      "cell_type": "code",
      "execution_count": 1,
      "metadata": {
        "id": "jH6QgVwkAzrr"
      },
      "outputs": [],
      "source": [
        "# loops are used to execute statements repeatedly "
      ]
    },
    {
      "cell_type": "code",
      "source": [
        "# Types of Loops \n",
        "# 1. while loop \n",
        "# 2. for loop "
      ],
      "metadata": {
        "id": "Nqf48tS_ECgi"
      },
      "execution_count": 2,
      "outputs": []
    },
    {
      "cell_type": "code",
      "source": [
        "# while true loop is somethings that runs without any condition (forever loop)(infinite loop)"
      ],
      "metadata": {
        "id": "TyTCZJzoEJu6"
      },
      "execution_count": 3,
      "outputs": []
    },
    {
      "cell_type": "code",
      "source": [
        "import time \n",
        "while True:\n",
        "  print(\"Hello world\")\n",
        "  time.sleep(1)  #creates a delay of 1 second to print every statement "
      ],
      "metadata": {
        "id": "7EY28M9XEdjq"
      },
      "execution_count": null,
      "outputs": []
    },
    {
      "cell_type": "code",
      "source": [
        "a = 1             # initialization\n",
        "while a <= 10:    # condition\n",
        "  print(a)        # statements\n",
        "  a = a + 1       # updation (increment,decrement)"
      ],
      "metadata": {
        "colab": {
          "base_uri": "https://localhost:8080/"
        },
        "id": "gIh_2J5-EkfN",
        "outputId": "2075cdfa-b6d6-4d50-b902-c652c1336e46"
      },
      "execution_count": 5,
      "outputs": [
        {
          "output_type": "stream",
          "name": "stdout",
          "text": [
            "1\n",
            "2\n",
            "3\n",
            "4\n",
            "5\n",
            "6\n",
            "7\n",
            "8\n",
            "9\n",
            "10\n"
          ]
        }
      ]
    },
    {
      "cell_type": "code",
      "source": [
        "a = 1 \n",
        "while a <= 20:\n",
        "  print(a,end = \" \")\n",
        "  a=a+1 \n",
        "  # a+=1\n",
        "\n",
        "  # a++  # will not work"
      ],
      "metadata": {
        "colab": {
          "base_uri": "https://localhost:8080/"
        },
        "id": "XMDo4VluFfb6",
        "outputId": "7ee7bd35-dec3-4f8a-8dff-d7ca81cd6502"
      },
      "execution_count": 6,
      "outputs": [
        {
          "output_type": "stream",
          "name": "stdout",
          "text": [
            "1 2 3 4 5 6 7 8 9 10 11 12 13 14 15 16 17 18 19 20 "
          ]
        }
      ]
    },
    {
      "cell_type": "code",
      "source": [
        "# post increment\n",
        "a = 1 \n",
        "while a <= 20:\n",
        "  print(a)\n",
        "  a=a+2"
      ],
      "metadata": {
        "colab": {
          "base_uri": "https://localhost:8080/"
        },
        "id": "iKI8MdpeHRoX",
        "outputId": "be81bbbd-f273-46ec-c462-90a311f95129"
      },
      "execution_count": 7,
      "outputs": [
        {
          "output_type": "stream",
          "name": "stdout",
          "text": [
            "1\n",
            "3\n",
            "5\n",
            "7\n",
            "9\n",
            "11\n",
            "13\n",
            "15\n",
            "17\n",
            "19\n"
          ]
        }
      ]
    },
    {
      "cell_type": "code",
      "source": [
        "# increment -  1. post increment 2. pre increment \n",
        "# decrement -  1. post decrement 2. pre decrement"
      ],
      "metadata": {
        "id": "GiQa8CZCFwNS"
      },
      "execution_count": 8,
      "outputs": []
    },
    {
      "cell_type": "code",
      "source": [
        "# pre-increment (increment first, then print the statements)\n",
        "a = 1\n",
        "while a <= 20:\n",
        "  a = a + 2\n",
        "  print(a)"
      ],
      "metadata": {
        "colab": {
          "base_uri": "https://localhost:8080/"
        },
        "id": "6P5e2OQCHqZ-",
        "outputId": "a1a01f6e-6f8e-4fb8-8cff-9e07316314fa"
      },
      "execution_count": 9,
      "outputs": [
        {
          "output_type": "stream",
          "name": "stdout",
          "text": [
            "3\n",
            "5\n",
            "7\n",
            "9\n",
            "11\n",
            "13\n",
            "15\n",
            "17\n",
            "19\n",
            "21\n"
          ]
        }
      ]
    },
    {
      "cell_type": "code",
      "source": [
        "# post decrement \n",
        "a = 20 \n",
        "while a>=0:\n",
        "  print(a)\n",
        "  a = a - 2 "
      ],
      "metadata": {
        "colab": {
          "base_uri": "https://localhost:8080/"
        },
        "id": "7dvzt7GYKWwd",
        "outputId": "ea725188-187f-40a8-c57f-ded5f9f973b7"
      },
      "execution_count": 10,
      "outputs": [
        {
          "output_type": "stream",
          "name": "stdout",
          "text": [
            "20\n",
            "18\n",
            "16\n",
            "14\n",
            "12\n",
            "10\n",
            "8\n",
            "6\n",
            "4\n",
            "2\n",
            "0\n"
          ]
        }
      ]
    },
    {
      "cell_type": "code",
      "source": [
        "a = 50 \n",
        "while a>=0:\n",
        "  print(a)\n",
        "  a = a - 5 "
      ],
      "metadata": {
        "colab": {
          "base_uri": "https://localhost:8080/"
        },
        "id": "LragPlhCLIdr",
        "outputId": "00002c12-a23a-45a7-bfce-003ff3d0fcdd"
      },
      "execution_count": 11,
      "outputs": [
        {
          "output_type": "stream",
          "name": "stdout",
          "text": [
            "50\n",
            "45\n",
            "40\n",
            "35\n",
            "30\n",
            "25\n",
            "20\n",
            "15\n",
            "10\n",
            "5\n",
            "0\n"
          ]
        }
      ]
    },
    {
      "cell_type": "code",
      "source": [
        "# pre-decrement \n",
        "a = 50 \n",
        "while a>=0:\n",
        "  a = a - 5 \n",
        "  print(a)"
      ],
      "metadata": {
        "colab": {
          "base_uri": "https://localhost:8080/"
        },
        "id": "2LixgQ2mLduh",
        "outputId": "0bf831c3-8a4a-4fee-983b-d4728270529f"
      },
      "execution_count": null,
      "outputs": [
        {
          "output_type": "stream",
          "name": "stdout",
          "text": [
            "45\n",
            "40\n",
            "35\n",
            "30\n",
            "25\n",
            "20\n",
            "15\n",
            "10\n",
            "5\n",
            "0\n",
            "-5\n"
          ]
        }
      ]
    },
    {
      "cell_type": "code",
      "source": [
        "#print tables using a while loop\n",
        "\n",
        "n = int(input(\"Enter the number :\"))\n",
        "i = 1    #iteration number (from 1 to 10)\n",
        "while i <= 10:\n",
        "  # print(f\" {n} x {i} = {n*i}\")\n",
        "  print(f\" {n} x {i} =\",n*i)\n",
        "  i = i + 1"
      ],
      "metadata": {
        "colab": {
          "base_uri": "https://localhost:8080/"
        },
        "id": "j-rqgvS1LzQH",
        "outputId": "577e6483-3c30-4591-c0f3-83034bb5a1bb"
      },
      "execution_count": 12,
      "outputs": [
        {
          "output_type": "stream",
          "name": "stdout",
          "text": [
            "Enter the number :5\n",
            " 5 x 1 = 5\n",
            " 5 x 2 = 10\n",
            " 5 x 3 = 15\n",
            " 5 x 4 = 20\n",
            " 5 x 5 = 25\n",
            " 5 x 6 = 30\n",
            " 5 x 7 = 35\n",
            " 5 x 8 = 40\n",
            " 5 x 9 = 45\n",
            " 5 x 10 = 50\n"
          ]
        }
      ]
    },
    {
      "cell_type": "code",
      "source": [
        "#break,continue"
      ],
      "metadata": {
        "id": "qNAZ7sR2MzzP"
      },
      "execution_count": 13,
      "outputs": []
    }
  ]
}