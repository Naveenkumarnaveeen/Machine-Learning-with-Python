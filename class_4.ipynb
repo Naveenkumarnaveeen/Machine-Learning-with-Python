{
  "nbformat": 4,
  "nbformat_minor": 0,
  "metadata": {
    "colab": {
      "provenance": [],
      "include_colab_link": true
    },
    "kernelspec": {
      "name": "python3",
      "display_name": "Python 3"
    },
    "language_info": {
      "name": "python"
    }
  },
  "cells": [
    {
      "cell_type": "markdown",
      "metadata": {
        "id": "view-in-github",
        "colab_type": "text"
      },
      "source": [
        "<a href=\"https://colab.research.google.com/github/Naveenkumarnaveeen/Machine-Learning-with-Python/blob/main/class_4.ipynb\" target=\"_parent\"><img src=\"https://colab.research.google.com/assets/colab-badge.svg\" alt=\"Open In Colab\"/></a>"
      ]
    },
    {
      "cell_type": "code",
      "execution_count": 1,
      "metadata": {
        "id": "e4dDlC4WLTYt"
      },
      "outputs": [],
      "source": [
        "# 1.write a code to check which number is largest out of the three numbers and print it"
      ]
    },
    {
      "cell_type": "code",
      "source": [
        "a=40\n",
        "b=25\n",
        "c=20\n",
        "if a>b and a >c:\n",
        "  print(\"a is largest!\")\n",
        "elif b>a and b>c:\n",
        "  print(\"b is largest!\")\n",
        "else:\n",
        "  print(\"c is largest\")"
      ],
      "metadata": {
        "colab": {
          "base_uri": "https://localhost:8080/"
        },
        "id": "UHih9TnVMCLK",
        "outputId": "fbca6206-dfd7-41ad-c7bb-17ab93b3e010"
      },
      "execution_count": 2,
      "outputs": [
        {
          "output_type": "stream",
          "name": "stdout",
          "text": [
            "a is largest!\n"
          ]
        }
      ]
    },
    {
      "cell_type": "code",
      "source": [
        "# 2.write a code to check if person is eligible to vote or not,\n",
        "# if the person is not eligible, then print after how many years will he/she be eligible \n",
        "\n",
        "age = int(input(\"Enter the age :\"))\n",
        "\n",
        "if age >= 18:\n",
        "  print(\"Eligible to vote!\")\n",
        "else:\n",
        "  print(\"Not eligible!\")\n",
        "  print(f\"You will be eligible to vote after {18-age} years\")"
      ],
      "metadata": {
        "colab": {
          "base_uri": "https://localhost:8080/"
        },
        "id": "wHXydwZvMGo8",
        "outputId": "a7922498-dc11-4ab1-ab50-f9ddc2a0b108"
      },
      "execution_count": 3,
      "outputs": [
        {
          "output_type": "stream",
          "name": "stdout",
          "text": [
            "Enter the age :17\n",
            "Not eligible!\n",
            "You will be eligible to vote after 1 years\n"
          ]
        }
      ]
    },
    {
      "cell_type": "code",
      "source": [
        "# 3.write a program to find the square root a number obtained from a user input (use formatted strings)\n",
        "a = float(input(\"Enter the number:\"))\n",
        "sqrt = a**0.5\n",
        "print(f\"Square root of {a} is \",sqrt)"
      ],
      "metadata": {
        "colab": {
          "base_uri": "https://localhost:8080/"
        },
        "id": "wTAltPpjNsxt",
        "outputId": "32286295-e842-4adc-e0bc-0e280cadb8b4"
      },
      "execution_count": 4,
      "outputs": [
        {
          "output_type": "stream",
          "name": "stdout",
          "text": [
            "Enter the number:16\n",
            "Square root of 16.0 is  4.0\n"
          ]
        }
      ]
    },
    {
      "cell_type": "code",
      "source": [
        "# 3.write a program to find the square root a number obtained from a user input (use formatted strings)\n",
        "import math\n",
        "a = float(input(\"Enter the number:\"))\n",
        "sqrt = math.sqrt(a)\n",
        "print(f\"Square root of {a} is \",sqrt)"
      ],
      "metadata": {
        "colab": {
          "base_uri": "https://localhost:8080/"
        },
        "id": "chKZR7oYOER8",
        "outputId": "dd444325-e2ca-4c3f-f82c-9bcfa34f33c0"
      },
      "execution_count": 5,
      "outputs": [
        {
          "output_type": "stream",
          "name": "stdout",
          "text": [
            "Enter the number:4\n",
            "Square root of 4.0 is  2.0\n"
          ]
        }
      ]
    },
    {
      "cell_type": "code",
      "source": [
        "# SEQUENCES IN PYTHON - sequences are containers used to store multiple values \n",
        "# variable - store a single value "
      ],
      "metadata": {
        "id": "a-509778OaUP"
      },
      "execution_count": 6,
      "outputs": []
    },
    {
      "cell_type": "code",
      "source": [
        "# 1. STRINGS\n",
        "# 2. LISTS \n",
        "# 3. TUPLES\n",
        "# 4. SETS \n",
        "# 5. DICTIONARY "
      ],
      "metadata": {
        "id": "feLtDJ5mPXDu"
      },
      "execution_count": 7,
      "outputs": []
    },
    {
      "cell_type": "code",
      "source": [
        "# lists - most versatile sequence \n",
        "#         elements are separated by commas \n",
        "#         represented in square brackets \n",
        "#         the datatype of the elements in a list need not be same \n",
        "#         allows repetition of elements \n",
        "#         supports indexing and slicing \n",
        "#         lists are mutable (we can add or remove elements from a list)\n",
        "a = [1,2,3,4,5]"
      ],
      "metadata": {
        "id": "G4q96uxhPnPU"
      },
      "execution_count": 8,
      "outputs": []
    },
    {
      "cell_type": "code",
      "source": [
        "# opeartions on a list \n",
        "# 1. append\n",
        "# 2. insert\n",
        "# 3. remove\n",
        "# 4. pop \n",
        "# 5. reverse\n",
        "# 6. extend\n",
        "# 7. del \n",
        "# 8. clear "
      ],
      "metadata": {
        "id": "PCFGulNmQWVl"
      },
      "execution_count": 9,
      "outputs": []
    },
    {
      "cell_type": "code",
      "source": [
        "a = [1,2,3,4,5]\n",
        "a"
      ],
      "metadata": {
        "colab": {
          "base_uri": "https://localhost:8080/"
        },
        "id": "SWLlR5EtQC6l",
        "outputId": "3b5fb7b1-ea85-4915-d0d9-1f1887747863"
      },
      "execution_count": 10,
      "outputs": [
        {
          "output_type": "execute_result",
          "data": {
            "text/plain": [
              "[1, 2, 3, 4, 5]"
            ]
          },
          "metadata": {},
          "execution_count": 10
        }
      ]
    },
    {
      "cell_type": "code",
      "source": [
        "b = [4,8,1,3,7]"
      ],
      "metadata": {
        "id": "NKDu6T9CQ5Z3"
      },
      "execution_count": 11,
      "outputs": []
    },
    {
      "cell_type": "code",
      "source": [
        "a+b #concatenation "
      ],
      "metadata": {
        "colab": {
          "base_uri": "https://localhost:8080/"
        },
        "id": "-77XwKJqRFXn",
        "outputId": "367b0f61-9117-4cca-a25b-29ee54589394"
      },
      "execution_count": 12,
      "outputs": [
        {
          "output_type": "execute_result",
          "data": {
            "text/plain": [
              "[1, 2, 3, 4, 5, 4, 8, 1, 3, 7]"
            ]
          },
          "metadata": {},
          "execution_count": 12
        }
      ]
    },
    {
      "cell_type": "code",
      "source": [
        "a-b # substraction operator cannot be used with lists it would result in error"
      ],
      "metadata": {
        "id": "siha4rF4RF8S"
      },
      "execution_count": null,
      "outputs": []
    },
    {
      "cell_type": "code",
      "source": [
        "b.sort() #ascening order \n",
        "b"
      ],
      "metadata": {
        "colab": {
          "base_uri": "https://localhost:8080/"
        },
        "id": "NhZJfPXxRJ9D",
        "outputId": "783c91ff-8781-4756-ad29-893a06f2e5ac"
      },
      "execution_count": 14,
      "outputs": [
        {
          "output_type": "execute_result",
          "data": {
            "text/plain": [
              "[1, 3, 4, 7, 8]"
            ]
          },
          "metadata": {},
          "execution_count": 14
        }
      ]
    },
    {
      "cell_type": "code",
      "source": [
        "b.sort(reverse=True) #descending order "
      ],
      "metadata": {
        "id": "ywLL9srzRY9K"
      },
      "execution_count": 15,
      "outputs": []
    },
    {
      "cell_type": "code",
      "source": [
        "b"
      ],
      "metadata": {
        "colab": {
          "base_uri": "https://localhost:8080/"
        },
        "id": "uDeCQ5pMResA",
        "outputId": "2cf3a1e2-3476-40e5-ffed-42f7eb6e90e4"
      },
      "execution_count": 16,
      "outputs": [
        {
          "output_type": "execute_result",
          "data": {
            "text/plain": [
              "[8, 7, 4, 3, 1]"
            ]
          },
          "metadata": {},
          "execution_count": 16
        }
      ]
    },
    {
      "cell_type": "code",
      "source": [
        "b[0]"
      ],
      "metadata": {
        "colab": {
          "base_uri": "https://localhost:8080/"
        },
        "id": "J4vOcTJyRfN3",
        "outputId": "9e9ee3b6-4a3c-44d9-bd02-e01334c2138d"
      },
      "execution_count": 17,
      "outputs": [
        {
          "output_type": "execute_result",
          "data": {
            "text/plain": [
              "8"
            ]
          },
          "metadata": {},
          "execution_count": 17
        }
      ]
    },
    {
      "cell_type": "code",
      "source": [
        "a[0]"
      ],
      "metadata": {
        "colab": {
          "base_uri": "https://localhost:8080/"
        },
        "id": "r_gVVgrsRtrW",
        "outputId": "52319b95-0aa0-487c-f02b-67226aba3a9a"
      },
      "execution_count": 18,
      "outputs": [
        {
          "output_type": "execute_result",
          "data": {
            "text/plain": [
              "1"
            ]
          },
          "metadata": {},
          "execution_count": 18
        }
      ]
    },
    {
      "cell_type": "code",
      "source": [
        "# 8,7,4,3,1\n",
        "# 0 1 2 3 4      -indexing \n",
        "# -5-4-3-2-1     -negative indexing\n",
        "\n",
        "\n",
        "#   1,2,3,4,5\n",
        "#   0 1 2 3 4\n",
        "#  -5-4-3-2-1"
      ],
      "metadata": {
        "id": "zmCpI79dR1Ol"
      },
      "execution_count": null,
      "outputs": []
    },
    {
      "cell_type": "code",
      "source": [
        "a"
      ],
      "metadata": {
        "colab": {
          "base_uri": "https://localhost:8080/"
        },
        "id": "y_HR3A1jSJsf",
        "outputId": "6c4b0f18-7859-447f-da74-38f1955525a7"
      },
      "execution_count": 21,
      "outputs": [
        {
          "output_type": "execute_result",
          "data": {
            "text/plain": [
              "[1, 2, 3, 4, 5]"
            ]
          },
          "metadata": {},
          "execution_count": 21
        }
      ]
    },
    {
      "cell_type": "code",
      "source": [
        "b"
      ],
      "metadata": {
        "colab": {
          "base_uri": "https://localhost:8080/"
        },
        "id": "rQZStFycSpj0",
        "outputId": "44b31375-6239-44cf-aa55-c77e3656e220"
      },
      "execution_count": 22,
      "outputs": [
        {
          "output_type": "execute_result",
          "data": {
            "text/plain": [
              "[8, 7, 4, 3, 1]"
            ]
          },
          "metadata": {},
          "execution_count": 22
        }
      ]
    },
    {
      "cell_type": "code",
      "source": [
        "min(a)"
      ],
      "metadata": {
        "colab": {
          "base_uri": "https://localhost:8080/"
        },
        "id": "gUI-dR0WSpxd",
        "outputId": "bd9f7f79-d5e5-40b7-f232-23797f94964a"
      },
      "execution_count": 23,
      "outputs": [
        {
          "output_type": "execute_result",
          "data": {
            "text/plain": [
              "1"
            ]
          },
          "metadata": {},
          "execution_count": 23
        }
      ]
    },
    {
      "cell_type": "code",
      "source": [
        "max(a)"
      ],
      "metadata": {
        "colab": {
          "base_uri": "https://localhost:8080/"
        },
        "id": "KghDKSlpSqor",
        "outputId": "32f18b83-66b8-46bb-c9df-59e8058c766b"
      },
      "execution_count": 24,
      "outputs": [
        {
          "output_type": "execute_result",
          "data": {
            "text/plain": [
              "5"
            ]
          },
          "metadata": {},
          "execution_count": 24
        }
      ]
    },
    {
      "cell_type": "code",
      "source": [
        "min(b)"
      ],
      "metadata": {
        "colab": {
          "base_uri": "https://localhost:8080/"
        },
        "id": "8MswYl4bSrfV",
        "outputId": "cb4e4bda-db1a-4caf-9846-60cffe6463d0"
      },
      "execution_count": 25,
      "outputs": [
        {
          "output_type": "execute_result",
          "data": {
            "text/plain": [
              "1"
            ]
          },
          "metadata": {},
          "execution_count": 25
        }
      ]
    },
    {
      "cell_type": "code",
      "source": [
        "max(b)"
      ],
      "metadata": {
        "colab": {
          "base_uri": "https://localhost:8080/"
        },
        "id": "-J0Vknb6St1s",
        "outputId": "a727afb0-b0f6-4e02-b06d-1a749d85d920"
      },
      "execution_count": 26,
      "outputs": [
        {
          "output_type": "execute_result",
          "data": {
            "text/plain": [
              "8"
            ]
          },
          "metadata": {},
          "execution_count": 26
        }
      ]
    },
    {
      "cell_type": "code",
      "source": [
        "fruits = ['apple','grapes','mango','orange']\n",
        "fruits"
      ],
      "metadata": {
        "colab": {
          "base_uri": "https://localhost:8080/"
        },
        "id": "ObAnNBduSwRS",
        "outputId": "00585971-2ab3-4b98-d42e-549c876b6cc2"
      },
      "execution_count": 27,
      "outputs": [
        {
          "output_type": "execute_result",
          "data": {
            "text/plain": [
              "['apple', 'grapes', 'mango', 'orange']"
            ]
          },
          "metadata": {},
          "execution_count": 27
        }
      ]
    },
    {
      "cell_type": "code",
      "source": [
        "fruits.append(\"mango\")\n",
        "fruits"
      ],
      "metadata": {
        "colab": {
          "base_uri": "https://localhost:8080/"
        },
        "id": "7CRVZdLoS8yb",
        "outputId": "454bd270-1bf8-41cf-c2f7-24503dc869a5"
      },
      "execution_count": 28,
      "outputs": [
        {
          "output_type": "execute_result",
          "data": {
            "text/plain": [
              "['apple', 'grapes', 'mango', 'orange', 'mango']"
            ]
          },
          "metadata": {},
          "execution_count": 28
        }
      ]
    },
    {
      "cell_type": "code",
      "source": [
        "fruits.append(\"kiwi\")\n",
        "fruits"
      ],
      "metadata": {
        "colab": {
          "base_uri": "https://localhost:8080/"
        },
        "id": "JtpHENgtTFRj",
        "outputId": "4fcd47f1-98b6-4e41-8441-d80acf4c3a82"
      },
      "execution_count": 29,
      "outputs": [
        {
          "output_type": "execute_result",
          "data": {
            "text/plain": [
              "['apple', 'grapes', 'mango', 'orange', 'mango', 'kiwi']"
            ]
          },
          "metadata": {},
          "execution_count": 29
        }
      ]
    },
    {
      "cell_type": "code",
      "source": [
        "fruits"
      ],
      "metadata": {
        "colab": {
          "base_uri": "https://localhost:8080/"
        },
        "id": "e4z7CVfgTUBm",
        "outputId": "042483c1-abd3-40e7-f6ef-ed89669a188b"
      },
      "execution_count": 30,
      "outputs": [
        {
          "output_type": "execute_result",
          "data": {
            "text/plain": [
              "['apple', 'grapes', 'mango', 'orange', 'mango', 'kiwi']"
            ]
          },
          "metadata": {},
          "execution_count": 30
        }
      ]
    },
    {
      "cell_type": "code",
      "source": [
        "fruits.insert(2,\"apple\")"
      ],
      "metadata": {
        "id": "Pnvi6HqtTaVr"
      },
      "execution_count": 31,
      "outputs": []
    },
    {
      "cell_type": "code",
      "source": [
        "fruits"
      ],
      "metadata": {
        "colab": {
          "base_uri": "https://localhost:8080/"
        },
        "id": "ZbX5bQb4TsHE",
        "outputId": "e80f1916-9a8f-4442-f553-bcc036ad25e7"
      },
      "execution_count": 32,
      "outputs": [
        {
          "output_type": "execute_result",
          "data": {
            "text/plain": [
              "['apple', 'grapes', 'apple', 'mango', 'orange', 'mango', 'kiwi']"
            ]
          },
          "metadata": {},
          "execution_count": 32
        }
      ]
    },
    {
      "cell_type": "code",
      "source": [
        "fruits.remove('apple') #first occurence will be deleted "
      ],
      "metadata": {
        "id": "ZTa9eyxuT2ha"
      },
      "execution_count": 33,
      "outputs": []
    },
    {
      "cell_type": "code",
      "source": [
        "fruits"
      ],
      "metadata": {
        "colab": {
          "base_uri": "https://localhost:8080/"
        },
        "id": "ShLCjajuUCyx",
        "outputId": "dc558c0d-1a6c-4f30-b9c6-d69efa66c7d6"
      },
      "execution_count": 34,
      "outputs": [
        {
          "output_type": "execute_result",
          "data": {
            "text/plain": [
              "['grapes', 'apple', 'mango', 'orange', 'mango', 'kiwi']"
            ]
          },
          "metadata": {},
          "execution_count": 34
        }
      ]
    },
    {
      "cell_type": "code",
      "source": [
        "fruits.pop(4) #deletes elements according to index"
      ],
      "metadata": {
        "colab": {
          "base_uri": "https://localhost:8080/",
          "height": 35
        },
        "id": "cK4VKc71UD1G",
        "outputId": "e242fc58-00e8-43b1-e366-11e81ba5e768"
      },
      "execution_count": 35,
      "outputs": [
        {
          "output_type": "execute_result",
          "data": {
            "text/plain": [
              "'mango'"
            ],
            "application/vnd.google.colaboratory.intrinsic+json": {
              "type": "string"
            }
          },
          "metadata": {},
          "execution_count": 35
        }
      ]
    },
    {
      "cell_type": "code",
      "source": [
        "fruits"
      ],
      "metadata": {
        "colab": {
          "base_uri": "https://localhost:8080/"
        },
        "id": "bdT3tHhaUSTG",
        "outputId": "936d0580-6a72-40cb-95ea-48daf7a4230b"
      },
      "execution_count": 36,
      "outputs": [
        {
          "output_type": "execute_result",
          "data": {
            "text/plain": [
              "['grapes', 'apple', 'mango', 'orange', 'kiwi']"
            ]
          },
          "metadata": {},
          "execution_count": 36
        }
      ]
    },
    {
      "cell_type": "code",
      "source": [
        "fruits.reverse()"
      ],
      "metadata": {
        "id": "2tqxcmQnUgWN"
      },
      "execution_count": 37,
      "outputs": []
    },
    {
      "cell_type": "code",
      "source": [
        "veggies = ['potato','onion','tomato','carrot']\n",
        "veggies"
      ],
      "metadata": {
        "colab": {
          "base_uri": "https://localhost:8080/"
        },
        "id": "6dXYE0A7VCdR",
        "outputId": "ba120041-1930-4c91-a7ac-8fe5e0213f11"
      },
      "execution_count": 38,
      "outputs": [
        {
          "output_type": "execute_result",
          "data": {
            "text/plain": [
              "['potato', 'onion', 'tomato', 'carrot']"
            ]
          },
          "metadata": {},
          "execution_count": 38
        }
      ]
    },
    {
      "cell_type": "code",
      "source": [
        "fruits.extend(veggies)"
      ],
      "metadata": {
        "id": "gWe4tpnzVNU4"
      },
      "execution_count": 39,
      "outputs": []
    },
    {
      "cell_type": "code",
      "source": [
        "fruits"
      ],
      "metadata": {
        "colab": {
          "base_uri": "https://localhost:8080/"
        },
        "id": "LUz1O5STVPjp",
        "outputId": "b84aab32-af38-477b-cee4-566183f50653"
      },
      "execution_count": 40,
      "outputs": [
        {
          "output_type": "execute_result",
          "data": {
            "text/plain": [
              "['kiwi',\n",
              " 'orange',\n",
              " 'mango',\n",
              " 'apple',\n",
              " 'grapes',\n",
              " 'potato',\n",
              " 'onion',\n",
              " 'tomato',\n",
              " 'carrot']"
            ]
          },
          "metadata": {},
          "execution_count": 40
        }
      ]
    },
    {
      "cell_type": "code",
      "source": [
        "veggies.extend(fruits)\n",
        "veggies"
      ],
      "metadata": {
        "colab": {
          "base_uri": "https://localhost:8080/"
        },
        "id": "gARDBpxkVQRG",
        "outputId": "1140ee87-fb1e-462a-a78e-7fd955dc3bbd"
      },
      "execution_count": 41,
      "outputs": [
        {
          "output_type": "execute_result",
          "data": {
            "text/plain": [
              "['potato',\n",
              " 'onion',\n",
              " 'tomato',\n",
              " 'carrot',\n",
              " 'kiwi',\n",
              " 'orange',\n",
              " 'mango',\n",
              " 'apple',\n",
              " 'grapes',\n",
              " 'potato',\n",
              " 'onion',\n",
              " 'tomato',\n",
              " 'carrot']"
            ]
          },
          "metadata": {},
          "execution_count": 41
        }
      ]
    },
    {
      "cell_type": "code",
      "source": [
        "veggies.clear() #emptying the list "
      ],
      "metadata": {
        "id": "KHctm-lXV52J"
      },
      "execution_count": 42,
      "outputs": []
    },
    {
      "cell_type": "code",
      "source": [
        "veggies #now empty list"
      ],
      "metadata": {
        "colab": {
          "base_uri": "https://localhost:8080/"
        },
        "id": "D9ln1yCbWCoZ",
        "outputId": "66ee7351-5bf9-4988-8f66-5fb1c943d953"
      },
      "execution_count": 43,
      "outputs": [
        {
          "output_type": "execute_result",
          "data": {
            "text/plain": [
              "[]"
            ]
          },
          "metadata": {},
          "execution_count": 43
        }
      ]
    },
    {
      "cell_type": "code",
      "source": [
        "del veggies #delete the entire list \n",
        "#next if we print veggies, it says not defined "
      ],
      "metadata": {
        "id": "Zjx8Gv2_WDYq"
      },
      "execution_count": 44,
      "outputs": []
    },
    {
      "cell_type": "code",
      "source": [
        "a = [1,2.2,\"hello\",True,2.2,\"hello\"]\n",
        "type(a)"
      ],
      "metadata": {
        "colab": {
          "base_uri": "https://localhost:8080/"
        },
        "id": "8g2jVWuJWJiv",
        "outputId": "0aa4a13c-a79f-400e-9de3-120224d43e64"
      },
      "execution_count": 45,
      "outputs": [
        {
          "output_type": "execute_result",
          "data": {
            "text/plain": [
              "list"
            ]
          },
          "metadata": {},
          "execution_count": 45
        }
      ]
    },
    {
      "cell_type": "code",
      "source": [
        "#tuples,dictionaries"
      ],
      "metadata": {
        "id": "vyCG4He7WXMP"
      },
      "execution_count": 46,
      "outputs": []
    }
  ]
}